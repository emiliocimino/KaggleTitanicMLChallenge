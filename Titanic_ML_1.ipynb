{
 "cells": [
  {
   "cell_type": "code",
   "execution_count": 1,
   "id": "fd78953a",
   "metadata": {},
   "outputs": [],
   "source": [
    "import numpy as np\n",
    "import pandas as pd\n",
    "import seaborn as sns\n",
    "import matplotlib.pyplot as plt\n",
    "import os\n",
    "\n",
    "from sklearn.ensemble import RandomForestClassifier\n",
    "from sklearn.model_selection import train_test_split\n",
    "from sklearn.metrics import classification_report, confusion_matrix, roc_curve, roc_auc_score\n",
    "\n",
    "from sklearn.preprocessing import LabelEncoder, OneHotEncoder"
   ]
  },
  {
   "cell_type": "markdown",
   "id": "54b93b2d",
   "metadata": {},
   "source": [
    "###  Exploratory Analysis\n",
    "\n",
    "We are going to check some variables and see what could be done"
   ]
  },
  {
   "cell_type": "code",
   "execution_count": 2,
   "id": "654da0c3",
   "metadata": {},
   "outputs": [],
   "source": [
    "train_df = pd.read_csv(\"train.csv\", index_col = \"PassengerId\")"
   ]
  },
  {
   "cell_type": "code",
   "execution_count": 3,
   "id": "d241a6de",
   "metadata": {},
   "outputs": [
    {
     "data": {
      "text/plain": [
       "Index(['Survived', 'Pclass', 'Name', 'Sex', 'Age', 'SibSp', 'Parch', 'Ticket',\n",
       "       'Fare', 'Cabin', 'Embarked'],\n",
       "      dtype='object')"
      ]
     },
     "execution_count": 3,
     "metadata": {},
     "output_type": "execute_result"
    }
   ],
   "source": [
    "train_df.columns"
   ]
  },
  {
   "cell_type": "code",
   "execution_count": 4,
   "id": "b3d99f50",
   "metadata": {},
   "outputs": [
    {
     "data": {
      "text/html": [
       "<div>\n",
       "<style scoped>\n",
       "    .dataframe tbody tr th:only-of-type {\n",
       "        vertical-align: middle;\n",
       "    }\n",
       "\n",
       "    .dataframe tbody tr th {\n",
       "        vertical-align: top;\n",
       "    }\n",
       "\n",
       "    .dataframe thead th {\n",
       "        text-align: right;\n",
       "    }\n",
       "</style>\n",
       "<table border=\"1\" class=\"dataframe\">\n",
       "  <thead>\n",
       "    <tr style=\"text-align: right;\">\n",
       "      <th></th>\n",
       "      <th>Survived</th>\n",
       "      <th>Pclass</th>\n",
       "      <th>Name</th>\n",
       "      <th>Sex</th>\n",
       "      <th>Age</th>\n",
       "      <th>SibSp</th>\n",
       "      <th>Parch</th>\n",
       "      <th>Ticket</th>\n",
       "      <th>Fare</th>\n",
       "      <th>Cabin</th>\n",
       "      <th>Embarked</th>\n",
       "    </tr>\n",
       "    <tr>\n",
       "      <th>PassengerId</th>\n",
       "      <th></th>\n",
       "      <th></th>\n",
       "      <th></th>\n",
       "      <th></th>\n",
       "      <th></th>\n",
       "      <th></th>\n",
       "      <th></th>\n",
       "      <th></th>\n",
       "      <th></th>\n",
       "      <th></th>\n",
       "      <th></th>\n",
       "    </tr>\n",
       "  </thead>\n",
       "  <tbody>\n",
       "    <tr>\n",
       "      <th>1</th>\n",
       "      <td>0</td>\n",
       "      <td>3</td>\n",
       "      <td>Braund, Mr. Owen Harris</td>\n",
       "      <td>male</td>\n",
       "      <td>22.0</td>\n",
       "      <td>1</td>\n",
       "      <td>0</td>\n",
       "      <td>A/5 21171</td>\n",
       "      <td>7.2500</td>\n",
       "      <td>NaN</td>\n",
       "      <td>S</td>\n",
       "    </tr>\n",
       "    <tr>\n",
       "      <th>2</th>\n",
       "      <td>1</td>\n",
       "      <td>1</td>\n",
       "      <td>Cumings, Mrs. John Bradley (Florence Briggs Th...</td>\n",
       "      <td>female</td>\n",
       "      <td>38.0</td>\n",
       "      <td>1</td>\n",
       "      <td>0</td>\n",
       "      <td>PC 17599</td>\n",
       "      <td>71.2833</td>\n",
       "      <td>C85</td>\n",
       "      <td>C</td>\n",
       "    </tr>\n",
       "    <tr>\n",
       "      <th>3</th>\n",
       "      <td>1</td>\n",
       "      <td>3</td>\n",
       "      <td>Heikkinen, Miss. Laina</td>\n",
       "      <td>female</td>\n",
       "      <td>26.0</td>\n",
       "      <td>0</td>\n",
       "      <td>0</td>\n",
       "      <td>STON/O2. 3101282</td>\n",
       "      <td>7.9250</td>\n",
       "      <td>NaN</td>\n",
       "      <td>S</td>\n",
       "    </tr>\n",
       "    <tr>\n",
       "      <th>4</th>\n",
       "      <td>1</td>\n",
       "      <td>1</td>\n",
       "      <td>Futrelle, Mrs. Jacques Heath (Lily May Peel)</td>\n",
       "      <td>female</td>\n",
       "      <td>35.0</td>\n",
       "      <td>1</td>\n",
       "      <td>0</td>\n",
       "      <td>113803</td>\n",
       "      <td>53.1000</td>\n",
       "      <td>C123</td>\n",
       "      <td>S</td>\n",
       "    </tr>\n",
       "    <tr>\n",
       "      <th>5</th>\n",
       "      <td>0</td>\n",
       "      <td>3</td>\n",
       "      <td>Allen, Mr. William Henry</td>\n",
       "      <td>male</td>\n",
       "      <td>35.0</td>\n",
       "      <td>0</td>\n",
       "      <td>0</td>\n",
       "      <td>373450</td>\n",
       "      <td>8.0500</td>\n",
       "      <td>NaN</td>\n",
       "      <td>S</td>\n",
       "    </tr>\n",
       "  </tbody>\n",
       "</table>\n",
       "</div>"
      ],
      "text/plain": [
       "             Survived  Pclass  \\\n",
       "PassengerId                     \n",
       "1                   0       3   \n",
       "2                   1       1   \n",
       "3                   1       3   \n",
       "4                   1       1   \n",
       "5                   0       3   \n",
       "\n",
       "                                                          Name     Sex   Age  \\\n",
       "PassengerId                                                                    \n",
       "1                                      Braund, Mr. Owen Harris    male  22.0   \n",
       "2            Cumings, Mrs. John Bradley (Florence Briggs Th...  female  38.0   \n",
       "3                                       Heikkinen, Miss. Laina  female  26.0   \n",
       "4                 Futrelle, Mrs. Jacques Heath (Lily May Peel)  female  35.0   \n",
       "5                                     Allen, Mr. William Henry    male  35.0   \n",
       "\n",
       "             SibSp  Parch            Ticket     Fare Cabin Embarked  \n",
       "PassengerId                                                          \n",
       "1                1      0         A/5 21171   7.2500   NaN        S  \n",
       "2                1      0          PC 17599  71.2833   C85        C  \n",
       "3                0      0  STON/O2. 3101282   7.9250   NaN        S  \n",
       "4                1      0            113803  53.1000  C123        S  \n",
       "5                0      0            373450   8.0500   NaN        S  "
      ]
     },
     "execution_count": 4,
     "metadata": {},
     "output_type": "execute_result"
    }
   ],
   "source": [
    "train_df.head()"
   ]
  },
  {
   "cell_type": "code",
   "execution_count": 5,
   "id": "d2580164",
   "metadata": {},
   "outputs": [
    {
     "data": {
      "text/plain": [
       "Survived      0\n",
       "Pclass        0\n",
       "Name          0\n",
       "Sex           0\n",
       "Age         177\n",
       "SibSp         0\n",
       "Parch         0\n",
       "Ticket        0\n",
       "Fare          0\n",
       "Cabin       687\n",
       "Embarked      2\n",
       "dtype: int64"
      ]
     },
     "execution_count": 5,
     "metadata": {},
     "output_type": "execute_result"
    }
   ],
   "source": [
    "# Checking for NaNs\n",
    "train_df.isna().sum()"
   ]
  },
  {
   "cell_type": "code",
   "execution_count": 6,
   "id": "a9407b5e",
   "metadata": {},
   "outputs": [
    {
     "data": {
      "text/plain": [
       "0    549\n",
       "1    342\n",
       "Name: Survived, dtype: int64"
      ]
     },
     "execution_count": 6,
     "metadata": {},
     "output_type": "execute_result"
    }
   ],
   "source": [
    "# Evaluating balancing\n",
    "train_df[\"Survived\"].value_counts()"
   ]
  },
  {
   "cell_type": "code",
   "execution_count": 7,
   "id": "fbb9d92f",
   "metadata": {},
   "outputs": [
    {
     "data": {
      "text/plain": [
       "0    608\n",
       "1    209\n",
       "2     28\n",
       "4     18\n",
       "3     16\n",
       "8      7\n",
       "5      5\n",
       "Name: SibSp, dtype: int64"
      ]
     },
     "execution_count": 7,
     "metadata": {},
     "output_type": "execute_result"
    }
   ],
   "source": [
    "train_df[\"SibSp\"].value_counts()"
   ]
  },
  {
   "cell_type": "code",
   "execution_count": 8,
   "id": "3da63385",
   "metadata": {},
   "outputs": [
    {
     "name": "stdout",
     "output_type": "stream",
     "text": [
      "% of passengers in First class without cabin 18.51851851851852\n",
      "% of passengers in Second class without cabin 91.30434782608695\n",
      "% of passengers in Third class without cabin 97.5560081466395\n"
     ]
    }
   ],
   "source": [
    "print(\"% of passengers in First class without cabin\", train_df[train_df[\"Pclass\"] == 1][\"Cabin\"].isna().sum() / len(train_df[train_df[\"Pclass\"] == 1])*100)\n",
    "print(\"% of passengers in Second class without cabin\", train_df[train_df[\"Pclass\"] == 2][\"Cabin\"].isna().sum() / len(train_df[train_df[\"Pclass\"] == 2])*100)\n",
    "print(\"% of passengers in Third class without cabin\", train_df[train_df[\"Pclass\"] == 3][\"Cabin\"].isna().sum() / len(train_df[train_df[\"Pclass\"] == 3])*100)"
   ]
  },
  {
   "cell_type": "code",
   "execution_count": 9,
   "id": "7fa8d0e2",
   "metadata": {},
   "outputs": [
    {
     "data": {
      "text/html": [
       "<div>\n",
       "<style scoped>\n",
       "    .dataframe tbody tr th:only-of-type {\n",
       "        vertical-align: middle;\n",
       "    }\n",
       "\n",
       "    .dataframe tbody tr th {\n",
       "        vertical-align: top;\n",
       "    }\n",
       "\n",
       "    .dataframe thead th {\n",
       "        text-align: right;\n",
       "    }\n",
       "</style>\n",
       "<table border=\"1\" class=\"dataframe\">\n",
       "  <thead>\n",
       "    <tr style=\"text-align: right;\">\n",
       "      <th></th>\n",
       "      <th>Survived</th>\n",
       "      <th>Pclass</th>\n",
       "      <th>Age</th>\n",
       "      <th>SibSp</th>\n",
       "      <th>Parch</th>\n",
       "      <th>Fare</th>\n",
       "    </tr>\n",
       "  </thead>\n",
       "  <tbody>\n",
       "    <tr>\n",
       "      <th>Survived</th>\n",
       "      <td>1.000000</td>\n",
       "      <td>-0.338481</td>\n",
       "      <td>-0.077221</td>\n",
       "      <td>-0.035322</td>\n",
       "      <td>0.081629</td>\n",
       "      <td>0.257307</td>\n",
       "    </tr>\n",
       "    <tr>\n",
       "      <th>Pclass</th>\n",
       "      <td>-0.338481</td>\n",
       "      <td>1.000000</td>\n",
       "      <td>-0.369226</td>\n",
       "      <td>0.083081</td>\n",
       "      <td>0.018443</td>\n",
       "      <td>-0.549500</td>\n",
       "    </tr>\n",
       "    <tr>\n",
       "      <th>Age</th>\n",
       "      <td>-0.077221</td>\n",
       "      <td>-0.369226</td>\n",
       "      <td>1.000000</td>\n",
       "      <td>-0.308247</td>\n",
       "      <td>-0.189119</td>\n",
       "      <td>0.096067</td>\n",
       "    </tr>\n",
       "    <tr>\n",
       "      <th>SibSp</th>\n",
       "      <td>-0.035322</td>\n",
       "      <td>0.083081</td>\n",
       "      <td>-0.308247</td>\n",
       "      <td>1.000000</td>\n",
       "      <td>0.414838</td>\n",
       "      <td>0.159651</td>\n",
       "    </tr>\n",
       "    <tr>\n",
       "      <th>Parch</th>\n",
       "      <td>0.081629</td>\n",
       "      <td>0.018443</td>\n",
       "      <td>-0.189119</td>\n",
       "      <td>0.414838</td>\n",
       "      <td>1.000000</td>\n",
       "      <td>0.216225</td>\n",
       "    </tr>\n",
       "    <tr>\n",
       "      <th>Fare</th>\n",
       "      <td>0.257307</td>\n",
       "      <td>-0.549500</td>\n",
       "      <td>0.096067</td>\n",
       "      <td>0.159651</td>\n",
       "      <td>0.216225</td>\n",
       "      <td>1.000000</td>\n",
       "    </tr>\n",
       "  </tbody>\n",
       "</table>\n",
       "</div>"
      ],
      "text/plain": [
       "          Survived    Pclass       Age     SibSp     Parch      Fare\n",
       "Survived  1.000000 -0.338481 -0.077221 -0.035322  0.081629  0.257307\n",
       "Pclass   -0.338481  1.000000 -0.369226  0.083081  0.018443 -0.549500\n",
       "Age      -0.077221 -0.369226  1.000000 -0.308247 -0.189119  0.096067\n",
       "SibSp    -0.035322  0.083081 -0.308247  1.000000  0.414838  0.159651\n",
       "Parch     0.081629  0.018443 -0.189119  0.414838  1.000000  0.216225\n",
       "Fare      0.257307 -0.549500  0.096067  0.159651  0.216225  1.000000"
      ]
     },
     "execution_count": 9,
     "metadata": {},
     "output_type": "execute_result"
    }
   ],
   "source": [
    "train_df.corr()\n",
    "#sns.pairplot(train_df)"
   ]
  },
  {
   "cell_type": "code",
   "execution_count": 10,
   "id": "a4d03f9a",
   "metadata": {},
   "outputs": [
    {
     "data": {
      "text/plain": [
       "<AxesSubplot:>"
      ]
     },
     "execution_count": 10,
     "metadata": {},
     "output_type": "execute_result"
    },
    {
     "data": {
      "image/png": "[encoded data removed]",
      "text/plain": [
       "<Figure size 432x288 with 2 Axes>"
      ]
     },
     "metadata": {
      "needs_background": "light"
     },
     "output_type": "display_data"
    }
   ],
   "source": [
    "sns.heatmap(train_df.corr(), cmap=\"hot\")"
   ]
  },
  {
   "cell_type": "markdown",
   "id": "b76753df",
   "metadata": {},
   "source": [
    "#### Conclusion\n",
    "\n",
    "Input variables seem not linearly correlated with other input variables, neither with output variables. The only exception is PClass vs Fare which are negatively correlated (obviously lower classes relate with higher prices).\n",
    "\n",
    "Sex Variable was cathegorized to be a 1/0 class.\n",
    "Embarking location was ignored since it intuitively is not a predictor for survival rate. In further tests it could be added\n",
    "\n",
    "Age is a variable containing NaNs, however it seems uncorrelated. Different methods will be tested to cover this problem\n",
    "\n",
    "It was added a dummy variable \"HasCabin\" to check if a passenger has a cabin. It could be interesting to understand if passengers on cabin were more or less subject to survive. From exploratory analysis, cabin is correlated with class (first class passengers have more cabin wrt lower class passengers) but is seems that is a weak negative correlation between having a cabin and surviving. It could be a matter of chances, but an intuitive reason could be that people on cabin may reach outer areas in more time. Moreover, an additional variable based on \"cabin zone\": CabinLevel is created, based on the letter of the Deck on which are situated, such as expressed in: https://en.wikipedia.org/wiki/Titanic#Dimensions_and_layout. It is also possible to notices (as reported in resource linked) that A-cabins (lower levels) are linked with lower classes (1st class), however since \"no level\" was indicated with 0 in our dataset, there is a negative correlation between class and level.\n",
    "\n",
    "\n",
    "About Target variable, there is some asymmetry between unsurvived and survived passengers, however dataset is not totally umbalanced."
   ]
  },
  {
   "cell_type": "markdown",
   "id": "72372e13",
   "metadata": {},
   "source": [
    "## Preprocessing Functions\n",
    "\n",
    "Here the set of functions (from above) to pre-process data\n"
   ]
  },
  {
   "cell_type": "code",
   "execution_count": 11,
   "id": "68fd9282",
   "metadata": {},
   "outputs": [],
   "source": [
    "def add_cabin_level(df):\n",
    "    # Checks for cabin letter and assign value based on area (cabin letter).\n",
    "    # If cabin is NaN, assign 0, otherwise assign A=1, B=2 and so on\n",
    "    \n",
    "    array_level_name = np.zeros(len(df))\n",
    "    for idx, val in enumerate(df[\"Cabin\"].values):\n",
    "        if val is not np.nan:\n",
    "            array_level_name[idx] = ord(val[0]) - ord(\"A\") +1\n",
    "\n",
    "    df[\"CabinLevel\"] = array_level_name\n",
    "    return df\n",
    "\n",
    "\n",
    "\n",
    "def add_has_cabin(df):\n",
    "    # Sets 1 to any passenger with one or more cabins, 0 otherwise\n",
    "    \n",
    "    df[\"HasCabin\"] = df[\"Cabin\"].isna().astype(\"int\")\n",
    "    return df\n",
    "\n",
    "\n",
    "\n",
    "def adjust_sex(df):\n",
    "    # Assigns 1 to male sex, 0 otherwise\n",
    "    \n",
    "    df[\"Sex\"] = pd.get_dummies(df, columns=[\"Sex\"])[\"Sex_male\"]\n",
    "    return df\n",
    "\n",
    "\n",
    "def fill_age_median(df):\n",
    "    # Fill missing age values with median\n",
    "    \n",
    "    df[\"Age\"] = df[\"Age\"].fillna(value=df[\"Age\"].median())\n",
    "    return df\n",
    "\n",
    "\n",
    "def filter_df(df, columns):\n",
    "    # Return df with relevant columns\n",
    "    \n",
    "    return df[columns].copy()\n",
    "\n",
    "\n",
    "\n",
    "def train_test_split(df, frac=0.8):\n",
    "    # Train test split. Change frac only to train dataset for model validation.\n",
    "    \n",
    "    train = df.sample(frac=frac, random_state=1)\n",
    "    test = df.drop(train.index)\n",
    "    \n",
    "    return train, test\n",
    "\n",
    "\n",
    "def x_y_split(df):\n",
    "    x = df.drop(\"Survived\", axis=1)\n",
    "    y = df[\"Survived\"]\n",
    "    \n",
    "    return x, y\n",
    "\n",
    "\n",
    "def setup_pipeline():\n",
    "    columns = [\"Sex\", \"Pclass\", \"Age\", \"SibSp\", \"Parch\", \"CabinLevel\"]\n",
    "    categorical_columns = [\"Sex\", \"Pclass\", \"CabinLevel\"]\n",
    "    return columns, categorical_columns\n",
    "\n",
    "\n",
    "\n",
    "def reduce_cardinality(all_names, base_names):\n",
    "    # Reduce cardinality for onehot encoding\n",
    "    \n",
    "    drop_list = []\n",
    "    \n",
    "    for name in base_names:\n",
    "        cur_list = [n for n in all_names if name in n]\n",
    "        drop_list.append(cur_list[-1])\n",
    "                \n",
    "    return drop_list\n",
    "\n",
    "\n",
    "\n",
    "def onehot_encoding(df, categorical_columns, OH_encoder, fit=False, df_train=None):\n",
    "    # One Hot Encoding with fit or unfit features.\n",
    "    # df is the only transformation df.\n",
    "    # If Fit, requires a training dataset but not an encoder. Returns train_df, val_df, encoder\n",
    "    # If not Fit, it requires the encoder but not the train_df. Returns only the encoded df\n",
    "    \n",
    "    \n",
    "    if fit:\n",
    "        OH_encoder = OneHotEncoder(handle_unknown='ignore', sparse=False)\n",
    "        OH_encoder.fit(df_train[categorical_columns])\n",
    "        colnames = OH_encoder.get_feature_names_out()\n",
    "        drop_cols = reduce_cardinality(colnames, categorical_columns)\n",
    "        OH_cols_train = pd.DataFrame(OH_encoder.transform(df_train[categorical_columns]), columns=colnames)\n",
    "        OH_cols_train.index = df_train.index\n",
    "        numeric_df_train = df_train.drop(categorical_columns, axis=1)\n",
    "        OH_cols_train = OH_cols_train.drop(drop_cols, axis=1)\n",
    "        new_df_train = pd.concat([numeric_df_train, OH_cols_train], axis=1)\n",
    "        \n",
    "    colnames = OH_encoder.get_feature_names_out()\n",
    "    drop_cols = reduce_cardinality(colnames, categorical_columns)\n",
    "    OH_cols = pd.DataFrame(OH_encoder.transform(df[categorical_columns]), columns=colnames)\n",
    "    OH_cols.index = df.index\n",
    "    numeric_df = df.drop(categorical_columns, axis=1)\n",
    "    OH_cols = OH_cols.drop(drop_cols, axis=1)\n",
    "    new_df = pd.concat([numeric_df, OH_cols], axis=1)\n",
    "    \n",
    "    if fit:\n",
    "        return new_df_train, new_df, OH_encoder\n",
    "    else:\n",
    "        return new_df\n",
    "\n",
    "    \n",
    "\n",
    "def preprocessing_pipeline(df_input, columns, train=True):\n",
    "    \n",
    "    df = df_input.copy()\n",
    "    \n",
    "    \n",
    "    if train:\n",
    "        columns.append(\"Survived\")\n",
    "    df = adjust_sex(df)\n",
    "    df = add_has_cabin(df)\n",
    "    df = add_cabin_level(df)\n",
    "    df = fill_age_median(df)\n",
    "    filtered_df = filter_df(df, columns)\n",
    "    \n",
    "    return filtered_df\n",
    "\n",
    "\n",
    "def train_test_onehot_preprocessing_pipeline(df_input):\n",
    "    # Test with onehotencoder\n",
    "    # Worse performances\n",
    "    \n",
    "    df = df_input.copy()\n",
    "    columns, categorical_columns = setup_pipeline()\n",
    "    \n",
    "    filtered_df = preprocessing_pipeline(df, columns, train=True)\n",
    "    \n",
    "    train, test = train_test_split(filtered_df, frac=0.8)\n",
    "    \n",
    "    # HERE ONEHOT\n",
    "    train, test, OH_encoder = onehot_encoding(test, categorical_columns, None, fit=True, df_train=train)\n",
    "    x_train, y_train = x_y_split(train)\n",
    "    x_val, y_val = x_y_split(test)\n",
    "    \n",
    "    return filtered_df, x_train, y_train, x_val, y_val, OH_encoder\n",
    "    \n",
    "\n",
    "def train_test_preprocessing_pipeline(df_input):\n",
    "    \n",
    "    df = df_input.copy()\n",
    "    columns, categorical_columns = setup_pipeline()\n",
    "    \n",
    "    filtered_df = preprocessing_pipeline(df, columns, train=True)\n",
    "    \n",
    "    train, test = train_test_split(filtered_df, frac=0.8)\n",
    "    \n",
    "    # HERE ONEHOT\n",
    "    x_train, y_train = x_y_split(train)\n",
    "    x_val, y_val = x_y_split(test)\n",
    "    \n",
    "    return filtered_df, x_train, y_train, x_val, y_val\n",
    "\n",
    "\n",
    "\n",
    "def test_preprocessing_pipeline(df_input, OH_encoder=None):\n",
    "    \n",
    "    df = df_input.copy()\n",
    "    columns, categorical_columns = setup_pipeline()\n",
    "    \n",
    "    filtered_df = preprocessing_pipeline(df, columns, train=False)\n",
    "    \n",
    "   \n",
    "    \n",
    "    return filtered_df"
   ]
  },
  {
   "cell_type": "markdown",
   "id": "7f1a8f54",
   "metadata": {},
   "source": [
    "## Inference and Utility Functions"
   ]
  },
  {
   "cell_type": "code",
   "execution_count": 12,
   "id": "c92de75c",
   "metadata": {},
   "outputs": [],
   "source": [
    "\n",
    "\n",
    "def prettyprint_classification_report(report):\n",
    "    \n",
    "    report_mean = report[\"weighted avg\"]\n",
    "    print(f'Accuracy obtained: {report[\"accuracy\"]}')\n",
    "    print(f'Weighted Average precision: {report_mean[\"precision\"]}')\n",
    "    print(f'Weighted Average recall: {report_mean[\"recall\"]}')\n",
    "    print(f'Weighted Average f1 score: {report_mean[\"f1-score\"]}')\n",
    "    \n",
    "    \n",
    "def prettyprint_confusion_matrix(matrix):\n",
    "    \n",
    "    tp = matrix[0,0]\n",
    "    tn = matrix[1,1]\n",
    "    fp = matrix[0,1]\n",
    "    fn = matrix[1,0]\n",
    "    \n",
    "    print(\"True Positives: \", tp)\n",
    "    print(\"True Negatives: \", tn)\n",
    "    print(\"False Positives: \", fp)\n",
    "    print(\"False Negatives: \", fn)\n",
    "    \n",
    "    \n",
    "def prediction_threshold_report(predictions_probability, threshold):\n",
    "    \n",
    "    test_prediction_max = np.maximum(predictions_probability[:,0], predictions_probability[:,1])\n",
    "    prediction_over_threshold = test_prediction_max[test_prediction_max>=threshold]\n",
    "    prediction_under_threshold = test_prediction_max[test_prediction_max<threshold]\n",
    "    confident_prediction_ratio = len(prediction_over_threshold)/len(test_prediction_max)\n",
    "    \n",
    "    \n",
    "    plt.hist(test_prediction_max, bins=50)\n",
    "    plt.title(\"Distribution of prediction probability\")\n",
    "    plt.xlabel(\"Probability\")\n",
    "    plt.ylabel(\"Samples\")\n",
    "    plt.axvline(threshold, c=\"r\", label=\"Confidence Threshold\")\n",
    "    plt.title(f\"Prediction: confidence over threshold ratio: {confident_prediction_ratio}\")\n",
    "    plt.legend()\n",
    "    \n",
    "    \n",
    "    "
   ]
  },
  {
   "cell_type": "markdown",
   "id": "83450ddd",
   "metadata": {},
   "source": [
    "## First Test\n",
    "\n",
    "A first test is trying to use data that has info about cabins and levels. For example it could be useful to check if \"having a cabin\" is a nice predictor of our algorithm.\n",
    "\n",
    "Instead of using Fare, we will use Pclass. Instead of using CabinLevel, we will use HasCabin\n",
    "\n",
    "About missing values, age will be replaced by median value"
   ]
  },
  {
   "cell_type": "markdown",
   "id": "8f0869e5",
   "metadata": {},
   "source": [
    "### Training"
   ]
  },
  {
   "cell_type": "code",
   "execution_count": 13,
   "id": "121a29cd",
   "metadata": {},
   "outputs": [],
   "source": [
    "#new_df, x_train, y_train, x_test, y_test, OH_encoder = train_test_onehot_preprocessing_pipeline(train_df)\n",
    "new_df, x_train, y_train, x_test, y_test = train_test_preprocessing_pipeline(train_df)"
   ]
  },
  {
   "cell_type": "code",
   "execution_count": 14,
   "id": "4b8a766b",
   "metadata": {},
   "outputs": [],
   "source": [
    "rf = RandomForestClassifier(n_estimators=100)"
   ]
  },
  {
   "cell_type": "code",
   "execution_count": 15,
   "id": "587ebd2f",
   "metadata": {},
   "outputs": [
    {
     "data": {
      "text/html": [
       "<style>#sk-container-id-1 {color: black;background-color: white;}#sk-container-id-1 pre{padding: 0;}#sk-container-id-1 div.sk-toggleable {background-color: white;}#sk-container-id-1 label.sk-toggleable__label {cursor: pointer;display: block;width: 100%;margin-bottom: 0;padding: 0.3em;box-sizing: border-box;text-align: center;}#sk-container-id-1 label.sk-toggleable__label-arrow:before {content: \"▸\";float: left;margin-right: 0.25em;color: #696969;}#sk-container-id-1 label.sk-toggleable__label-arrow:hover:before {color: black;}#sk-container-id-1 div.sk-estimator:hover label.sk-toggleable__label-arrow:before {color: black;}#sk-container-id-1 div.sk-toggleable__content {max-height: 0;max-width: 0;overflow: hidden;text-align: left;background-color: #f0f8ff;}#sk-container-id-1 div.sk-toggleable__content pre {margin: 0.2em;color: black;border-radius: 0.25em;background-color: #f0f8ff;}#sk-container-id-1 input.sk-toggleable__control:checked~div.sk-toggleable__content {max-height: 200px;max-width: 100%;overflow: auto;}#sk-container-id-1 input.sk-toggleable__control:checked~label.sk-toggleable__label-arrow:before {content: \"▾\";}#sk-container-id-1 div.sk-estimator input.sk-toggleable__control:checked~label.sk-toggleable__label {background-color: #d4ebff;}#sk-container-id-1 div.sk-label input.sk-toggleable__control:checked~label.sk-toggleable__label {background-color: #d4ebff;}#sk-container-id-1 input.sk-hidden--visually {border: 0;clip: rect(1px 1px 1px 1px);clip: rect(1px, 1px, 1px, 1px);height: 1px;margin: -1px;overflow: hidden;padding: 0;position: absolute;width: 1px;}#sk-container-id-1 div.sk-estimator {font-family: monospace;background-color: #f0f8ff;border: 1px dotted black;border-radius: 0.25em;box-sizing: border-box;margin-bottom: 0.5em;}#sk-container-id-1 div.sk-estimator:hover {background-color: #d4ebff;}#sk-container-id-1 div.sk-parallel-item::after {content: \"\";width: 100%;border-bottom: 1px solid gray;flex-grow: 1;}#sk-container-id-1 div.sk-label:hover label.sk-toggleable__label {background-color: #d4ebff;}#sk-container-id-1 div.sk-serial::before {content: \"\";position: absolute;border-left: 1px solid gray;box-sizing: border-box;top: 0;bottom: 0;left: 50%;z-index: 0;}#sk-container-id-1 div.sk-serial {display: flex;flex-direction: column;align-items: center;background-color: white;padding-right: 0.2em;padding-left: 0.2em;position: relative;}#sk-container-id-1 div.sk-item {position: relative;z-index: 1;}#sk-container-id-1 div.sk-parallel {display: flex;align-items: stretch;justify-content: center;background-color: white;position: relative;}#sk-container-id-1 div.sk-item::before, #sk-container-id-1 div.sk-parallel-item::before {content: \"\";position: absolute;border-left: 1px solid gray;box-sizing: border-box;top: 0;bottom: 0;left: 50%;z-index: -1;}#sk-container-id-1 div.sk-parallel-item {display: flex;flex-direction: column;z-index: 1;position: relative;background-color: white;}#sk-container-id-1 div.sk-parallel-item:first-child::after {align-self: flex-end;width: 50%;}#sk-container-id-1 div.sk-parallel-item:last-child::after {align-self: flex-start;width: 50%;}#sk-container-id-1 div.sk-parallel-item:only-child::after {width: 0;}#sk-container-id-1 div.sk-dashed-wrapped {border: 1px dashed gray;margin: 0 0.4em 0.5em 0.4em;box-sizing: border-box;padding-bottom: 0.4em;background-color: white;}#sk-container-id-1 div.sk-label label {font-family: monospace;font-weight: bold;display: inline-block;line-height: 1.2em;}#sk-container-id-1 div.sk-label-container {text-align: center;}#sk-container-id-1 div.sk-container {/* jupyter's `normalize.less` sets `[hidden] { display: none; }` but bootstrap.min.css set `[hidden] { display: none !important; }` so we also need the `!important` here to be able to override the default hidden behavior on the sphinx rendered scikit-learn.org. See: https://github.com/scikit-learn/scikit-learn/issues/21755 */display: inline-block !important;position: relative;}#sk-container-id-1 div.sk-text-repr-fallback {display: none;}</style><div id=\"sk-container-id-1\" class=\"sk-top-container\"><div class=\"sk-text-repr-fallback\"><pre>RandomForestClassifier()</pre><b>In a Jupyter environment, please rerun this cell to show the HTML representation or trust the notebook. <br />On GitHub, the HTML representation is unable to render, please try loading this page with nbviewer.org.</b></div><div class=\"sk-container\" hidden><div class=\"sk-item\"><div class=\"sk-estimator sk-toggleable\"><input class=\"sk-toggleable__control sk-hidden--visually\" id=\"sk-estimator-id-1\" type=\"checkbox\" checked><label for=\"sk-estimator-id-1\" class=\"sk-toggleable__label sk-toggleable__label-arrow\">RandomForestClassifier</label><div class=\"sk-toggleable__content\"><pre>RandomForestClassifier()</pre></div></div></div></div></div>"
      ],
      "text/plain": [
       "RandomForestClassifier()"
      ]
     },
     "execution_count": 15,
     "metadata": {},
     "output_type": "execute_result"
    }
   ],
   "source": [
    "rf.fit(x_train, y_train)"
   ]
  },
  {
   "cell_type": "markdown",
   "id": "ecece92f",
   "metadata": {},
   "source": [
    "### Validation "
   ]
  },
  {
   "cell_type": "code",
   "execution_count": 16,
   "id": "e9bcb3a6",
   "metadata": {},
   "outputs": [],
   "source": [
    "predictions = rf.predict(x_test)"
   ]
  },
  {
   "cell_type": "code",
   "execution_count": 17,
   "id": "2a9f4739",
   "metadata": {},
   "outputs": [
    {
     "name": "stdout",
     "output_type": "stream",
     "text": [
      "Accuracy obtained: 0.848314606741573\n",
      "Weighted Average precision: 0.8477639179838762\n",
      "Weighted Average recall: 0.848314606741573\n",
      "Weighted Average f1 score: 0.8480105424751504\n"
     ]
    }
   ],
   "source": [
    "report = classification_report(y_test.values, predictions, output_dict=True)\n",
    "prettyprint_classification_report(report)"
   ]
  },
  {
   "cell_type": "code",
   "execution_count": 18,
   "id": "15a07037",
   "metadata": {},
   "outputs": [
    {
     "name": "stdout",
     "output_type": "stream",
     "text": [
      "True Positives:  104\n",
      "True Negatives:  47\n",
      "False Positives:  13\n",
      "False Negatives:  14\n"
     ]
    }
   ],
   "source": [
    "prettyprint_confusion_matrix(confusion_matrix(y_test.values, predictions))"
   ]
  },
  {
   "cell_type": "code",
   "execution_count": 19,
   "id": "732681c9",
   "metadata": {},
   "outputs": [
    {
     "data": {
      "image/png": "[encoded data removed]",
      "text/plain": [
       "<Figure size 432x288 with 1 Axes>"
      ]
     },
     "metadata": {
      "needs_background": "light"
     },
     "output_type": "display_data"
    }
   ],
   "source": [
    "fpr, tpr, _ = roc_curve(y_test,  predictions)\n",
    "auc = roc_auc_score(y_test,  predictions)\n",
    "\n",
    "plt.plot(fpr,tpr)\n",
    "plt.ylabel('True Positive Rate')\n",
    "plt.xlabel('False Positive Rate')\n",
    "plt.title(f\"ROC with AUC:{auc}\")\n",
    "plt.show()"
   ]
  },
  {
   "cell_type": "markdown",
   "id": "c5780c19",
   "metadata": {},
   "source": [
    "## Baseline models\n",
    "\n",
    "Further validation is performed against two baseline models: using \"none survived\" baseline predictions and, then, using the \"female sex\" baseline predictor"
   ]
  },
  {
   "cell_type": "code",
   "execution_count": 20,
   "id": "5bedb2c0",
   "metadata": {},
   "outputs": [
    {
     "name": "stdout",
     "output_type": "stream",
     "text": [
      "Accuracy obtained: 0.6573033707865169\n",
      "Weighted Average precision: 0.7747443504608005\n",
      "Weighted Average recall: 0.6573033707865169\n",
      "Weighted Average f1 score: 0.5213864025899829\n"
     ]
    }
   ],
   "source": [
    "dummy_predictions_1 = np.zeros(y_test.shape[0])\n",
    "dummy_predictions_1.shape\n",
    "dummy_report = classification_report(y_test.values, dummy_predictions_1, output_dict=True, zero_division=True)\n",
    "prettyprint_classification_report(dummy_report)"
   ]
  },
  {
   "cell_type": "code",
   "execution_count": 21,
   "id": "4a5ab29c",
   "metadata": {},
   "outputs": [
    {
     "name": "stdout",
     "output_type": "stream",
     "text": [
      "Accuracy obtained: 0.8033707865168539\n",
      "Weighted Average precision: 0.8013899651297947\n",
      "Weighted Average recall: 0.8033707865168539\n",
      "Weighted Average f1 score: 0.8021367557120985\n"
     ]
    }
   ],
   "source": [
    "# dummy_predictions_sex_female = x_test[\"Sex_0\"] # Onehot Encoding\n",
    "dummy_predictions_sex_female = np.abs(x_test[\"Sex\"].values.astype(\"int16\") -1)\n",
    "report_sex_female = classification_report(y_test.values, dummy_predictions_sex_female, output_dict=True)\n",
    "prettyprint_classification_report(report_sex_female)"
   ]
  },
  {
   "cell_type": "markdown",
   "id": "3085b2c1",
   "metadata": {},
   "source": [
    "### Explainable AI with Lime"
   ]
  },
  {
   "cell_type": "code",
   "execution_count": 22,
   "id": "1274968b",
   "metadata": {},
   "outputs": [],
   "source": [
    "import lime.lime_tabular\n",
    "from lime.submodular_pick import SubmodularPick\n"
   ]
  },
  {
   "cell_type": "code",
   "execution_count": 23,
   "id": "8601b78a",
   "metadata": {},
   "outputs": [],
   "source": [
    "\"\"\"\n",
    "categorigal_names = OH_encoder.get_feature_names_out()\n",
    "true_categorical_names = []\n",
    "for name in x_train.columns:\n",
    "    if name in categorigal_names:\n",
    "        true_categorical_names.append(name)\n",
    "\"\"\";"
   ]
  },
  {
   "cell_type": "code",
   "execution_count": 24,
   "id": "dbb55903",
   "metadata": {},
   "outputs": [],
   "source": [
    "explainer = lime.lime_tabular.LimeTabularExplainer(x_train.values, feature_names=x_train.columns, class_names=[0, 1],  discretize_continuous=True)"
   ]
  },
  {
   "cell_type": "code",
   "execution_count": 51,
   "id": "24403990",
   "metadata": {},
   "outputs": [
    {
     "ename": "AttributeError",
     "evalue": "'tensorflow.python.framework.ops.EagerTensor' object has no attribute 'iloc'",
     "output_type": "error",
     "traceback": [
      "\u001b[1;31m---------------------------------------------------------------------------\u001b[0m",
      "\u001b[1;31mAttributeError\u001b[0m                            Traceback (most recent call last)",
      "Input \u001b[1;32mIn [51]\u001b[0m, in \u001b[0;36m<cell line: 2>\u001b[1;34m()\u001b[0m\n\u001b[0;32m      1\u001b[0m i \u001b[38;5;241m=\u001b[39m np\u001b[38;5;241m.\u001b[39mrandom\u001b[38;5;241m.\u001b[39mrandint(\u001b[38;5;241m0\u001b[39m, x_test\u001b[38;5;241m.\u001b[39mshape[\u001b[38;5;241m0\u001b[39m])\n\u001b[1;32m----> 2\u001b[0m exp \u001b[38;5;241m=\u001b[39m explainer\u001b[38;5;241m.\u001b[39mexplain_instance(\u001b[43mx_test\u001b[49m\u001b[38;5;241;43m.\u001b[39;49m\u001b[43miloc\u001b[49m[i], rf\u001b[38;5;241m.\u001b[39mpredict_proba, num_features\u001b[38;5;241m=\u001b[39m\u001b[38;5;241m5\u001b[39m, top_labels\u001b[38;5;241m=\u001b[39m\u001b[38;5;241m1\u001b[39m)\n\u001b[0;32m      3\u001b[0m \u001b[38;5;28mprint\u001b[39m(rf\u001b[38;5;241m.\u001b[39mpredict_proba(x_test)[i], rf\u001b[38;5;241m.\u001b[39mpredict(x_test)[i], y_test\u001b[38;5;241m.\u001b[39miloc[i])\n\u001b[0;32m      4\u001b[0m exp\u001b[38;5;241m.\u001b[39mshow_in_notebook(show_table\u001b[38;5;241m=\u001b[39m\u001b[38;5;28;01mTrue\u001b[39;00m, show_all\u001b[38;5;241m=\u001b[39m\u001b[38;5;28;01mTrue\u001b[39;00m)\n",
      "File \u001b[1;32m~\\AppData\\Local\\Programs\\Python\\Python310\\lib\\site-packages\\tensorflow\\python\\framework\\ops.py:444\u001b[0m, in \u001b[0;36mTensor.__getattr__\u001b[1;34m(self, name)\u001b[0m\n\u001b[0;32m    435\u001b[0m \u001b[38;5;28;01mif\u001b[39;00m name \u001b[38;5;129;01min\u001b[39;00m {\u001b[38;5;124m\"\u001b[39m\u001b[38;5;124mT\u001b[39m\u001b[38;5;124m\"\u001b[39m, \u001b[38;5;124m\"\u001b[39m\u001b[38;5;124mastype\u001b[39m\u001b[38;5;124m\"\u001b[39m, \u001b[38;5;124m\"\u001b[39m\u001b[38;5;124mravel\u001b[39m\u001b[38;5;124m\"\u001b[39m, \u001b[38;5;124m\"\u001b[39m\u001b[38;5;124mtranspose\u001b[39m\u001b[38;5;124m\"\u001b[39m, \u001b[38;5;124m\"\u001b[39m\u001b[38;5;124mreshape\u001b[39m\u001b[38;5;124m\"\u001b[39m, \u001b[38;5;124m\"\u001b[39m\u001b[38;5;124mclip\u001b[39m\u001b[38;5;124m\"\u001b[39m, \u001b[38;5;124m\"\u001b[39m\u001b[38;5;124msize\u001b[39m\u001b[38;5;124m\"\u001b[39m,\n\u001b[0;32m    436\u001b[0m             \u001b[38;5;124m\"\u001b[39m\u001b[38;5;124mtolist\u001b[39m\u001b[38;5;124m\"\u001b[39m, \u001b[38;5;124m\"\u001b[39m\u001b[38;5;124mdata\u001b[39m\u001b[38;5;124m\"\u001b[39m}:\n\u001b[0;32m    437\u001b[0m   \u001b[38;5;66;03m# TODO(wangpeng): Export the enable_numpy_behavior knob\u001b[39;00m\n\u001b[0;32m    438\u001b[0m   \u001b[38;5;28;01mraise\u001b[39;00m \u001b[38;5;167;01mAttributeError\u001b[39;00m(\n\u001b[0;32m    439\u001b[0m       \u001b[38;5;124mf\u001b[39m\u001b[38;5;124m\"\u001b[39m\u001b[38;5;132;01m{\u001b[39;00m\u001b[38;5;28mtype\u001b[39m(\u001b[38;5;28mself\u001b[39m)\u001b[38;5;241m.\u001b[39m\u001b[38;5;18m__name__\u001b[39m\u001b[38;5;132;01m}\u001b[39;00m\u001b[38;5;124m object has no attribute \u001b[39m\u001b[38;5;124m'\u001b[39m\u001b[38;5;132;01m{\u001b[39;00mname\u001b[38;5;132;01m}\u001b[39;00m\u001b[38;5;124m'\u001b[39m\u001b[38;5;124m. \u001b[39m\u001b[38;5;124m\"\u001b[39m \u001b[38;5;241m+\u001b[39m \u001b[38;5;124m\"\"\"\u001b[39m\n\u001b[0;32m    440\u001b[0m \u001b[38;5;124m    If you are looking for numpy-related methods, please run the following:\u001b[39m\n\u001b[0;32m    441\u001b[0m \u001b[38;5;124m    from tensorflow.python.ops.numpy_ops import np_config\u001b[39m\n\u001b[0;32m    442\u001b[0m \u001b[38;5;124m    np_config.enable_numpy_behavior()\u001b[39m\n\u001b[0;32m    443\u001b[0m \u001b[38;5;124m  \u001b[39m\u001b[38;5;124m\"\"\"\u001b[39m)\n\u001b[1;32m--> 444\u001b[0m \u001b[38;5;28;43mself\u001b[39;49m\u001b[38;5;241;43m.\u001b[39;49m\u001b[38;5;21;43m__getattribute__\u001b[39;49m\u001b[43m(\u001b[49m\u001b[43mname\u001b[49m\u001b[43m)\u001b[49m\n",
      "\u001b[1;31mAttributeError\u001b[0m: 'tensorflow.python.framework.ops.EagerTensor' object has no attribute 'iloc'"
     ]
    }
   ],
   "source": [
    "i = np.random.randint(0, x_test.shape[0])\n",
    "exp = explainer.explain_instance(x_test.iloc[i], rf.predict_proba, num_features=5, top_labels=1)\n",
    "print(rf.predict_proba(x_test)[i], rf.predict(x_test)[i], y_test.iloc[i])\n",
    "exp.show_in_notebook(show_table=True, show_all=True)\n"
   ]
  },
  {
   "cell_type": "code",
   "execution_count": 26,
   "id": "b4b5eb7f",
   "metadata": {},
   "outputs": [],
   "source": [
    "%%capture\n",
    "sp_obj = SubmodularPick(explainer, x_train.values, rf.predict_proba, sample_size=100, num_features=len(x_train.columns), num_exps_desired=2);"
   ]
  },
  {
   "cell_type": "markdown",
   "id": "af8ca95d",
   "metadata": {},
   "source": [
    "#### Explainable AI insights:\n",
    "\n",
    "- For class \"Not survived\":\n",
    "   - Sex = 1 (Male) is high indicator of not surviving\n",
    "   - Age > 34 is moderate indicator of not surviving\n",
    "   - Cabin lvl = 0 (has no cabin) is indicator of not surviving\n",
    "   - Third class passengers were more likely of not surviving\n",
    "   - NOT Having a sibling/spouse negatively influence probability of death\n",
    "   \n",
    "- For class \"Survived\":\n",
    "    - Sex = 0 (Female) is high indicator of surviving\n",
    "    - First Class or Second Class passengers were more likely to survive\n",
    "    - Passengers with cabins were unespectedly more likely to survive (coincides with higher class passgs)\n",
    "    - Having sibling or spouse negatively influences survivability (again)\n",
    "    - Age <= 22 is indicator of survivability\n",
    "    \n",
    "    \n",
    "From this analysis, it seems that richier people, women and jounger people were more likely to survive"
   ]
  },
  {
   "cell_type": "code",
   "execution_count": 27,
   "id": "40ef7a6b",
   "metadata": {},
   "outputs": [
    {
     "data": {
      "image/png": "[encoded data removed]",
      "text/plain": [
       "<Figure size 432x288 with 1 Axes>"
      ]
     },
     "metadata": {
      "needs_background": "light"
     },
     "output_type": "display_data"
    },
    {
     "data": {
      "image/png": "[encoded data removed]",
      "text/plain": [
       "<Figure size 432x288 with 1 Axes>"
      ]
     },
     "metadata": {
      "needs_background": "light"
     },
     "output_type": "display_data"
    }
   ],
   "source": [
    "[exp.as_pyplot_figure(label=exp.available_labels()[0]) for exp in sp_obj.sp_explanations];\n"
   ]
  },
  {
   "cell_type": "markdown",
   "id": "dbf4d879",
   "metadata": {},
   "source": [
    "## Kaggle Test Set Predictions"
   ]
  },
  {
   "cell_type": "code",
   "execution_count": 28,
   "id": "d4633d5f",
   "metadata": {},
   "outputs": [],
   "source": [
    "test_df = pd.read_csv(\"test.csv\", index_col = \"PassengerId\")"
   ]
  },
  {
   "cell_type": "code",
   "execution_count": 29,
   "id": "26614ca2",
   "metadata": {},
   "outputs": [],
   "source": [
    "filtered_test = test_preprocessing_pipeline(test_df)"
   ]
  },
  {
   "cell_type": "code",
   "execution_count": 30,
   "id": "198c477e",
   "metadata": {},
   "outputs": [
    {
     "data": {
      "text/html": [
       "<div>\n",
       "<style scoped>\n",
       "    .dataframe tbody tr th:only-of-type {\n",
       "        vertical-align: middle;\n",
       "    }\n",
       "\n",
       "    .dataframe tbody tr th {\n",
       "        vertical-align: top;\n",
       "    }\n",
       "\n",
       "    .dataframe thead th {\n",
       "        text-align: right;\n",
       "    }\n",
       "</style>\n",
       "<table border=\"1\" class=\"dataframe\">\n",
       "  <thead>\n",
       "    <tr style=\"text-align: right;\">\n",
       "      <th></th>\n",
       "      <th>Sex</th>\n",
       "      <th>Pclass</th>\n",
       "      <th>Age</th>\n",
       "      <th>SibSp</th>\n",
       "      <th>Parch</th>\n",
       "      <th>CabinLevel</th>\n",
       "    </tr>\n",
       "    <tr>\n",
       "      <th>PassengerId</th>\n",
       "      <th></th>\n",
       "      <th></th>\n",
       "      <th></th>\n",
       "      <th></th>\n",
       "      <th></th>\n",
       "      <th></th>\n",
       "    </tr>\n",
       "  </thead>\n",
       "  <tbody>\n",
       "    <tr>\n",
       "      <th>892</th>\n",
       "      <td>1</td>\n",
       "      <td>3</td>\n",
       "      <td>34.5</td>\n",
       "      <td>0</td>\n",
       "      <td>0</td>\n",
       "      <td>0.0</td>\n",
       "    </tr>\n",
       "    <tr>\n",
       "      <th>893</th>\n",
       "      <td>0</td>\n",
       "      <td>3</td>\n",
       "      <td>47.0</td>\n",
       "      <td>1</td>\n",
       "      <td>0</td>\n",
       "      <td>0.0</td>\n",
       "    </tr>\n",
       "    <tr>\n",
       "      <th>894</th>\n",
       "      <td>1</td>\n",
       "      <td>2</td>\n",
       "      <td>62.0</td>\n",
       "      <td>0</td>\n",
       "      <td>0</td>\n",
       "      <td>0.0</td>\n",
       "    </tr>\n",
       "    <tr>\n",
       "      <th>895</th>\n",
       "      <td>1</td>\n",
       "      <td>3</td>\n",
       "      <td>27.0</td>\n",
       "      <td>0</td>\n",
       "      <td>0</td>\n",
       "      <td>0.0</td>\n",
       "    </tr>\n",
       "    <tr>\n",
       "      <th>896</th>\n",
       "      <td>0</td>\n",
       "      <td>3</td>\n",
       "      <td>22.0</td>\n",
       "      <td>1</td>\n",
       "      <td>1</td>\n",
       "      <td>0.0</td>\n",
       "    </tr>\n",
       "  </tbody>\n",
       "</table>\n",
       "</div>"
      ],
      "text/plain": [
       "             Sex  Pclass   Age  SibSp  Parch  CabinLevel\n",
       "PassengerId                                             \n",
       "892            1       3  34.5      0      0         0.0\n",
       "893            0       3  47.0      1      0         0.0\n",
       "894            1       2  62.0      0      0         0.0\n",
       "895            1       3  27.0      0      0         0.0\n",
       "896            0       3  22.0      1      1         0.0"
      ]
     },
     "execution_count": 30,
     "metadata": {},
     "output_type": "execute_result"
    }
   ],
   "source": [
    "filtered_test.head()"
   ]
  },
  {
   "cell_type": "code",
   "execution_count": 31,
   "id": "38aed32e",
   "metadata": {},
   "outputs": [],
   "source": [
    "test_predictions = rf.predict(filtered_test)"
   ]
  },
  {
   "cell_type": "code",
   "execution_count": 32,
   "id": "33c41df7",
   "metadata": {},
   "outputs": [
    {
     "data": {
      "image/png": "[encoded data removed]",
      "text/plain": [
       "<Figure size 432x288 with 1 Axes>"
      ]
     },
     "metadata": {
      "needs_background": "light"
     },
     "output_type": "display_data"
    }
   ],
   "source": [
    "test_predictions_proba = rf.predict_proba(filtered_test)\n",
    "prediction_threshold_report(test_predictions_proba, 0.9)"
   ]
  },
  {
   "cell_type": "markdown",
   "id": "9dfe3112",
   "metadata": {},
   "source": [
    "# Second Test\n",
    "\n",
    "Using the same variables with another prediction method, i.e: xgboost"
   ]
  },
  {
   "cell_type": "code",
   "execution_count": 33,
   "id": "8ce8a032",
   "metadata": {},
   "outputs": [],
   "source": [
    "import xgboost as xgb"
   ]
  },
  {
   "cell_type": "code",
   "execution_count": 34,
   "id": "5112b22b",
   "metadata": {},
   "outputs": [
    {
     "data": {
      "text/html": [
       "<style>#sk-container-id-2 {color: black;background-color: white;}#sk-container-id-2 pre{padding: 0;}#sk-container-id-2 div.sk-toggleable {background-color: white;}#sk-container-id-2 label.sk-toggleable__label {cursor: pointer;display: block;width: 100%;margin-bottom: 0;padding: 0.3em;box-sizing: border-box;text-align: center;}#sk-container-id-2 label.sk-toggleable__label-arrow:before {content: \"▸\";float: left;margin-right: 0.25em;color: #696969;}#sk-container-id-2 label.sk-toggleable__label-arrow:hover:before {color: black;}#sk-container-id-2 div.sk-estimator:hover label.sk-toggleable__label-arrow:before {color: black;}#sk-container-id-2 div.sk-toggleable__content {max-height: 0;max-width: 0;overflow: hidden;text-align: left;background-color: #f0f8ff;}#sk-container-id-2 div.sk-toggleable__content pre {margin: 0.2em;color: black;border-radius: 0.25em;background-color: #f0f8ff;}#sk-container-id-2 input.sk-toggleable__control:checked~div.sk-toggleable__content {max-height: 200px;max-width: 100%;overflow: auto;}#sk-container-id-2 input.sk-toggleable__control:checked~label.sk-toggleable__label-arrow:before {content: \"▾\";}#sk-container-id-2 div.sk-estimator input.sk-toggleable__control:checked~label.sk-toggleable__label {background-color: #d4ebff;}#sk-container-id-2 div.sk-label input.sk-toggleable__control:checked~label.sk-toggleable__label {background-color: #d4ebff;}#sk-container-id-2 input.sk-hidden--visually {border: 0;clip: rect(1px 1px 1px 1px);clip: rect(1px, 1px, 1px, 1px);height: 1px;margin: -1px;overflow: hidden;padding: 0;position: absolute;width: 1px;}#sk-container-id-2 div.sk-estimator {font-family: monospace;background-color: #f0f8ff;border: 1px dotted black;border-radius: 0.25em;box-sizing: border-box;margin-bottom: 0.5em;}#sk-container-id-2 div.sk-estimator:hover {background-color: #d4ebff;}#sk-container-id-2 div.sk-parallel-item::after {content: \"\";width: 100%;border-bottom: 1px solid gray;flex-grow: 1;}#sk-container-id-2 div.sk-label:hover label.sk-toggleable__label {background-color: #d4ebff;}#sk-container-id-2 div.sk-serial::before {content: \"\";position: absolute;border-left: 1px solid gray;box-sizing: border-box;top: 0;bottom: 0;left: 50%;z-index: 0;}#sk-container-id-2 div.sk-serial {display: flex;flex-direction: column;align-items: center;background-color: white;padding-right: 0.2em;padding-left: 0.2em;position: relative;}#sk-container-id-2 div.sk-item {position: relative;z-index: 1;}#sk-container-id-2 div.sk-parallel {display: flex;align-items: stretch;justify-content: center;background-color: white;position: relative;}#sk-container-id-2 div.sk-item::before, #sk-container-id-2 div.sk-parallel-item::before {content: \"\";position: absolute;border-left: 1px solid gray;box-sizing: border-box;top: 0;bottom: 0;left: 50%;z-index: -1;}#sk-container-id-2 div.sk-parallel-item {display: flex;flex-direction: column;z-index: 1;position: relative;background-color: white;}#sk-container-id-2 div.sk-parallel-item:first-child::after {align-self: flex-end;width: 50%;}#sk-container-id-2 div.sk-parallel-item:last-child::after {align-self: flex-start;width: 50%;}#sk-container-id-2 div.sk-parallel-item:only-child::after {width: 0;}#sk-container-id-2 div.sk-dashed-wrapped {border: 1px dashed gray;margin: 0 0.4em 0.5em 0.4em;box-sizing: border-box;padding-bottom: 0.4em;background-color: white;}#sk-container-id-2 div.sk-label label {font-family: monospace;font-weight: bold;display: inline-block;line-height: 1.2em;}#sk-container-id-2 div.sk-label-container {text-align: center;}#sk-container-id-2 div.sk-container {/* jupyter's `normalize.less` sets `[hidden] { display: none; }` but bootstrap.min.css set `[hidden] { display: none !important; }` so we also need the `!important` here to be able to override the default hidden behavior on the sphinx rendered scikit-learn.org. See: https://github.com/scikit-learn/scikit-learn/issues/21755 */display: inline-block !important;position: relative;}#sk-container-id-2 div.sk-text-repr-fallback {display: none;}</style><div id=\"sk-container-id-2\" class=\"sk-top-container\"><div class=\"sk-text-repr-fallback\"><pre>XGBClassifier(base_score=None, booster=None, callbacks=None,\n",
       "              colsample_bylevel=None, colsample_bynode=None,\n",
       "              colsample_bytree=None, device=None, early_stopping_rounds=None,\n",
       "              enable_categorical=False, eval_metric=None, feature_types=None,\n",
       "              gamma=None, grow_policy=None, importance_type=None,\n",
       "              interaction_constraints=None, learning_rate=None, max_bin=None,\n",
       "              max_cat_threshold=None, max_cat_to_onehot=None,\n",
       "              max_delta_step=None, max_depth=None, max_leaves=None,\n",
       "              min_child_weight=None, missing=nan, monotone_constraints=None,\n",
       "              multi_strategy=None, n_estimators=100, n_jobs=None,\n",
       "              num_parallel_tree=None, random_state=2, ...)</pre><b>In a Jupyter environment, please rerun this cell to show the HTML representation or trust the notebook. <br />On GitHub, the HTML representation is unable to render, please try loading this page with nbviewer.org.</b></div><div class=\"sk-container\" hidden><div class=\"sk-item\"><div class=\"sk-estimator sk-toggleable\"><input class=\"sk-toggleable__control sk-hidden--visually\" id=\"sk-estimator-id-2\" type=\"checkbox\" checked><label for=\"sk-estimator-id-2\" class=\"sk-toggleable__label sk-toggleable__label-arrow\">XGBClassifier</label><div class=\"sk-toggleable__content\"><pre>XGBClassifier(base_score=None, booster=None, callbacks=None,\n",
       "              colsample_bylevel=None, colsample_bynode=None,\n",
       "              colsample_bytree=None, device=None, early_stopping_rounds=None,\n",
       "              enable_categorical=False, eval_metric=None, feature_types=None,\n",
       "              gamma=None, grow_policy=None, importance_type=None,\n",
       "              interaction_constraints=None, learning_rate=None, max_bin=None,\n",
       "              max_cat_threshold=None, max_cat_to_onehot=None,\n",
       "              max_delta_step=None, max_depth=None, max_leaves=None,\n",
       "              min_child_weight=None, missing=nan, monotone_constraints=None,\n",
       "              multi_strategy=None, n_estimators=100, n_jobs=None,\n",
       "              num_parallel_tree=None, random_state=2, ...)</pre></div></div></div></div></div>"
      ],
      "text/plain": [
       "XGBClassifier(base_score=None, booster=None, callbacks=None,\n",
       "              colsample_bylevel=None, colsample_bynode=None,\n",
       "              colsample_bytree=None, device=None, early_stopping_rounds=None,\n",
       "              enable_categorical=False, eval_metric=None, feature_types=None,\n",
       "              gamma=None, grow_policy=None, importance_type=None,\n",
       "              interaction_constraints=None, learning_rate=None, max_bin=None,\n",
       "              max_cat_threshold=None, max_cat_to_onehot=None,\n",
       "              max_delta_step=None, max_depth=None, max_leaves=None,\n",
       "              min_child_weight=None, missing=nan, monotone_constraints=None,\n",
       "              multi_strategy=None, n_estimators=100, n_jobs=None,\n",
       "              num_parallel_tree=None, random_state=2, ...)"
      ]
     },
     "execution_count": 34,
     "metadata": {},
     "output_type": "execute_result"
    }
   ],
   "source": [
    "xgb_model = xgb.XGBClassifier(n_estimators=100, random_state=2)\n",
    "xgb_model.fit(x_train, y_train)"
   ]
  },
  {
   "cell_type": "code",
   "execution_count": 35,
   "id": "2dc277a0",
   "metadata": {},
   "outputs": [],
   "source": [
    "xgb_prediction = xgb_model.predict(x_test)"
   ]
  },
  {
   "cell_type": "code",
   "execution_count": 36,
   "id": "4869bbe5",
   "metadata": {},
   "outputs": [
    {
     "name": "stdout",
     "output_type": "stream",
     "text": [
      "Accuracy obtained: 0.8651685393258427\n",
      "Weighted Average precision: 0.863826154670733\n",
      "Weighted Average recall: 0.8651685393258427\n",
      "Weighted Average f1 score: 0.8640162978160223\n"
     ]
    }
   ],
   "source": [
    "report = classification_report(y_test.values, xgb_prediction, output_dict=True)\n",
    "prettyprint_classification_report(report)"
   ]
  },
  {
   "cell_type": "code",
   "execution_count": 37,
   "id": "edabfe49",
   "metadata": {},
   "outputs": [
    {
     "name": "stdout",
     "output_type": "stream",
     "text": [
      "True Positives:  107\n",
      "True Negatives:  47\n",
      "False Positives:  10\n",
      "False Negatives:  14\n"
     ]
    }
   ],
   "source": [
    "prettyprint_confusion_matrix(confusion_matrix(y_test.values, xgb_prediction))"
   ]
  },
  {
   "cell_type": "code",
   "execution_count": 38,
   "id": "d03694df",
   "metadata": {},
   "outputs": [
    {
     "data": {
      "image/png": "[encoded data removed]",
      "text/plain": [
       "<Figure size 432x288 with 1 Axes>"
      ]
     },
     "metadata": {
      "needs_background": "light"
     },
     "output_type": "display_data"
    }
   ],
   "source": [
    "xgb_prediction_proba = xgb_model.predict_proba(x_test)\n",
    "prediction_threshold_report(xgb_prediction_proba, 0.9)"
   ]
  },
  {
   "cell_type": "markdown",
   "id": "fac0d54f",
   "metadata": {},
   "source": [
    "### On Kaggle Test Set"
   ]
  },
  {
   "cell_type": "code",
   "execution_count": 39,
   "id": "dd587e8d",
   "metadata": {},
   "outputs": [
    {
     "data": {
      "image/png": "[encoded data removed]",
      "text/plain": [
       "<Figure size 432x288 with 1 Axes>"
      ]
     },
     "metadata": {
      "needs_background": "light"
     },
     "output_type": "display_data"
    }
   ],
   "source": [
    "test_predictions = xgb_model.predict(filtered_test)\n",
    "xgb_prediction_proba = xgb_model.predict_proba(filtered_test)\n",
    "prediction_threshold_report(xgb_prediction_proba, 0.9)"
   ]
  },
  {
   "cell_type": "code",
   "execution_count": 40,
   "id": "eb36e38f",
   "metadata": {},
   "outputs": [
    {
     "data": {
      "text/html": [
       "<div>\n",
       "<style scoped>\n",
       "    .dataframe tbody tr th:only-of-type {\n",
       "        vertical-align: middle;\n",
       "    }\n",
       "\n",
       "    .dataframe tbody tr th {\n",
       "        vertical-align: top;\n",
       "    }\n",
       "\n",
       "    .dataframe thead th {\n",
       "        text-align: right;\n",
       "    }\n",
       "</style>\n",
       "<table border=\"1\" class=\"dataframe\">\n",
       "  <thead>\n",
       "    <tr style=\"text-align: right;\">\n",
       "      <th></th>\n",
       "      <th>Survived</th>\n",
       "    </tr>\n",
       "    <tr>\n",
       "      <th>PassengerId</th>\n",
       "      <th></th>\n",
       "    </tr>\n",
       "  </thead>\n",
       "  <tbody>\n",
       "    <tr>\n",
       "      <th>892</th>\n",
       "      <td>0</td>\n",
       "    </tr>\n",
       "    <tr>\n",
       "      <th>893</th>\n",
       "      <td>0</td>\n",
       "    </tr>\n",
       "    <tr>\n",
       "      <th>894</th>\n",
       "      <td>0</td>\n",
       "    </tr>\n",
       "    <tr>\n",
       "      <th>895</th>\n",
       "      <td>1</td>\n",
       "    </tr>\n",
       "    <tr>\n",
       "      <th>896</th>\n",
       "      <td>1</td>\n",
       "    </tr>\n",
       "    <tr>\n",
       "      <th>...</th>\n",
       "      <td>...</td>\n",
       "    </tr>\n",
       "    <tr>\n",
       "      <th>1305</th>\n",
       "      <td>1</td>\n",
       "    </tr>\n",
       "    <tr>\n",
       "      <th>1306</th>\n",
       "      <td>1</td>\n",
       "    </tr>\n",
       "    <tr>\n",
       "      <th>1307</th>\n",
       "      <td>0</td>\n",
       "    </tr>\n",
       "    <tr>\n",
       "      <th>1308</th>\n",
       "      <td>1</td>\n",
       "    </tr>\n",
       "    <tr>\n",
       "      <th>1309</th>\n",
       "      <td>1</td>\n",
       "    </tr>\n",
       "  </tbody>\n",
       "</table>\n",
       "<p>418 rows × 1 columns</p>\n",
       "</div>"
      ],
      "text/plain": [
       "             Survived\n",
       "PassengerId          \n",
       "892                 0\n",
       "893                 0\n",
       "894                 0\n",
       "895                 1\n",
       "896                 1\n",
       "...               ...\n",
       "1305                1\n",
       "1306                1\n",
       "1307                0\n",
       "1308                1\n",
       "1309                1\n",
       "\n",
       "[418 rows x 1 columns]"
      ]
     },
     "execution_count": 40,
     "metadata": {},
     "output_type": "execute_result"
    }
   ],
   "source": [
    "test_prediction_max = np.maximum(xgb_prediction_proba[:,0], xgb_prediction_proba[:,1])\n",
    "datas = np.c_[test_predictions, test_prediction_max]\n",
    "results = pd.DataFrame(data = test_predictions, index=filtered_test.index, columns=[\"Survived\"])\n",
    "results"
   ]
  },
  {
   "cell_type": "code",
   "execution_count": 41,
   "id": "b5ebc900",
   "metadata": {},
   "outputs": [],
   "source": [
    "#results.to_csv(\"submission_9.csv\")"
   ]
  },
  {
   "cell_type": "markdown",
   "id": "bf9112ba",
   "metadata": {},
   "source": [
    "## Deep Learning Test"
   ]
  },
  {
   "cell_type": "code",
   "execution_count": 55,
   "id": "1a09c6a6",
   "metadata": {},
   "outputs": [],
   "source": [
    "import tensorflow as tf\n",
    "from tensorflow.keras.models import Sequential\n",
    "from tensorflow.keras.layers import Dense, Input, Dropout, LeakyReLU\n",
    "from tensorflow.keras.optimizers import Adam\n",
    "from tensorflow.keras.losses import BinaryCrossentropy\n",
    "from tensorflow.keras.callbacks import EarlyStopping\n",
    "\n",
    "\n",
    "from tensorflow.keras.utils import plot_model\n"
   ]
  },
  {
   "cell_type": "code",
   "execution_count": 56,
   "id": "db0e1078",
   "metadata": {},
   "outputs": [],
   "source": [
    "def PlotHistory(hist):\n",
    "    '''\n",
    "    Function to build the training curve plot\n",
    "    '''\n",
    "    \n",
    "    fig, ax = plt.subplots(2, 1, figsize=(16,9))\n",
    "    \n",
    "    ax[0].plot(hist['loss'], label = \"Training Loss\")\n",
    "    ax[0].plot(hist['val_loss'], label = \"Validation Loss\")\n",
    "    ax[0].set_title(\"Training trend\")\n",
    "    ax[0].legend()\n",
    "    \n",
    "    ax[1].plot(hist['accuracy'], label = \"Training Accuracy\")\n",
    "    ax[1].plot(hist['val_accuracy'], label = \"Validation Accuracy\")\n",
    "    ax[1].set_title(\"Accuracy trend\")\n",
    "    ax[1].legend()\n",
    "    \n",
    "    \n",
    "    plt.show()\n"
   ]
  },
  {
   "cell_type": "code",
   "execution_count": 57,
   "id": "8a3962ff",
   "metadata": {},
   "outputs": [],
   "source": [
    "x_train = tf.convert_to_tensor(x_train, dtype=tf.float32)\n",
    "x_test = tf.convert_to_tensor(x_test, dtype=tf.float32)\n",
    "y_train = tf.convert_to_tensor(y_train, dtype=tf.float32)\n",
    "y_test = tf.convert_to_tensor(y_test, dtype=tf.float32)"
   ]
  },
  {
   "cell_type": "code",
   "execution_count": 58,
   "id": "62925ba4",
   "metadata": {},
   "outputs": [],
   "source": [
    "# Early Stopping callback to stop training if validation loss does not decrease after 10 epochs\n",
    "es = EarlyStopping(\n",
    "    monitor = \"val_loss\",\n",
    "    min_delta = 0,\n",
    "    patience = 10,\n",
    "    mode=\"auto\",\n",
    "    restore_best_weights=True\n",
    "    )\n",
    "\n",
    "# Max number of epochs and batch size parameters\n",
    "epochs = 300"
   ]
  },
  {
   "cell_type": "code",
   "execution_count": 64,
   "id": "f72d26d0",
   "metadata": {},
   "outputs": [
    {
     "name": "stdout",
     "output_type": "stream",
     "text": [
      "Model: \"sequential_4\"\n",
      "_________________________________________________________________\n",
      " Layer (type)                Output Shape              Param #   \n",
      "=================================================================\n",
      " dense_16 (Dense)            (None, 128)               896       \n",
      "                                                                 \n",
      " dropout_3 (Dropout)         (None, 128)               0         \n",
      "                                                                 \n",
      " dense_17 (Dense)            (None, 256)               33024     \n",
      "                                                                 \n",
      " dense_18 (Dense)            (None, 64)                16448     \n",
      "                                                                 \n",
      " dense_19 (Dense)            (None, 32)                2080      \n",
      "                                                                 \n",
      " dense_20 (Dense)            (None, 1)                 33        \n",
      "                                                                 \n",
      "=================================================================\n",
      "Total params: 52,481\n",
      "Trainable params: 52,481\n",
      "Non-trainable params: 0\n",
      "_________________________________________________________________\n"
     ]
    },
    {
     "data": {
      "image/png": "[encoded data removed]",
      "text/plain": [
       "<IPython.core.display.Image object>"
      ]
     },
     "execution_count": 64,
     "metadata": {},
     "output_type": "execute_result"
    }
   ],
   "source": [
    "model = Sequential()\n",
    "model.add(Input(shape=(x_train.shape[1:])))\n",
    "model.add(Dense(128, activation=LeakyReLU(alpha=0.01)))\n",
    "model.add(Dropout(0.05))\n",
    "model.add(Dense(256, activation=LeakyReLU(alpha=0.01)))\n",
    "model.add(Dense(64, activation=LeakyReLU(alpha=0.01)))\n",
    "model.add(Dense(32, activation=LeakyReLU(alpha=0.01)))\n",
    "model.add(Dense(1, activation=\"sigmoid\"))\n",
    "\n",
    "model.compile(optimizer=Adam(learning_rate = 3e-5), loss=\"binary_crossentropy\", metrics=['accuracy'])\n",
    "\n",
    "model.summary()\n",
    "plot_model(model, show_shapes=True)"
   ]
  },
  {
   "cell_type": "code",
   "execution_count": 65,
   "id": "84b74389",
   "metadata": {
    "scrolled": false
   },
   "outputs": [
    {
     "name": "stdout",
     "output_type": "stream",
     "text": [
      "Epoch 1/300\n",
      "45/45 [==============================] - 1s 5ms/step - loss: 0.6657 - accuracy: 0.6087 - val_loss: 0.6206 - val_accuracy: 0.6685\n",
      "Epoch 2/300\n",
      "45/45 [==============================] - 0s 2ms/step - loss: 0.6562 - accuracy: 0.6255 - val_loss: 0.6119 - val_accuracy: 0.6685\n",
      "Epoch 3/300\n",
      "45/45 [==============================] - 0s 3ms/step - loss: 0.6491 - accuracy: 0.6311 - val_loss: 0.6046 - val_accuracy: 0.6685\n",
      "Epoch 4/300\n",
      "45/45 [==============================] - 0s 3ms/step - loss: 0.6445 - accuracy: 0.6311 - val_loss: 0.5983 - val_accuracy: 0.6966\n",
      "Epoch 5/300\n",
      "45/45 [==============================] - 0s 3ms/step - loss: 0.6422 - accuracy: 0.6213 - val_loss: 0.5899 - val_accuracy: 0.7022\n",
      "Epoch 6/300\n",
      "45/45 [==============================] - 0s 2ms/step - loss: 0.6433 - accuracy: 0.6297 - val_loss: 0.5900 - val_accuracy: 0.7472\n",
      "Epoch 7/300\n",
      "45/45 [==============================] - 0s 2ms/step - loss: 0.6415 - accuracy: 0.6255 - val_loss: 0.5799 - val_accuracy: 0.7191\n",
      "Epoch 8/300\n",
      "45/45 [==============================] - 0s 2ms/step - loss: 0.6337 - accuracy: 0.6311 - val_loss: 0.5737 - val_accuracy: 0.7360\n",
      "Epoch 9/300\n",
      "45/45 [==============================] - 0s 2ms/step - loss: 0.6311 - accuracy: 0.6508 - val_loss: 0.5690 - val_accuracy: 0.7191\n",
      "Epoch 10/300\n",
      "45/45 [==============================] - 0s 2ms/step - loss: 0.6234 - accuracy: 0.6494 - val_loss: 0.5683 - val_accuracy: 0.7472\n",
      "Epoch 11/300\n",
      "45/45 [==============================] - 0s 2ms/step - loss: 0.6248 - accuracy: 0.6578 - val_loss: 0.5745 - val_accuracy: 0.7416\n",
      "Epoch 12/300\n",
      "45/45 [==============================] - 0s 2ms/step - loss: 0.6187 - accuracy: 0.6690 - val_loss: 0.5561 - val_accuracy: 0.7472\n",
      "Epoch 13/300\n",
      "45/45 [==============================] - 0s 3ms/step - loss: 0.6134 - accuracy: 0.6634 - val_loss: 0.5521 - val_accuracy: 0.7416\n",
      "Epoch 14/300\n",
      "45/45 [==============================] - 0s 3ms/step - loss: 0.6160 - accuracy: 0.6550 - val_loss: 0.5573 - val_accuracy: 0.7472\n",
      "Epoch 15/300\n",
      "45/45 [==============================] - 0s 3ms/step - loss: 0.6227 - accuracy: 0.6620 - val_loss: 0.5551 - val_accuracy: 0.7416\n",
      "Epoch 16/300\n",
      "45/45 [==============================] - 0s 3ms/step - loss: 0.6067 - accuracy: 0.6928 - val_loss: 0.5546 - val_accuracy: 0.7528\n",
      "Epoch 17/300\n",
      "45/45 [==============================] - 0s 3ms/step - loss: 0.6150 - accuracy: 0.6690 - val_loss: 0.5401 - val_accuracy: 0.7528\n",
      "Epoch 18/300\n",
      "45/45 [==============================] - 0s 3ms/step - loss: 0.6215 - accuracy: 0.6732 - val_loss: 0.5378 - val_accuracy: 0.7472\n",
      "Epoch 19/300\n",
      "45/45 [==============================] - 0s 3ms/step - loss: 0.6053 - accuracy: 0.6858 - val_loss: 0.5407 - val_accuracy: 0.7528\n",
      "Epoch 20/300\n",
      "45/45 [==============================] - 0s 3ms/step - loss: 0.5995 - accuracy: 0.6914 - val_loss: 0.5319 - val_accuracy: 0.7528\n",
      "Epoch 21/300\n",
      "45/45 [==============================] - 0s 3ms/step - loss: 0.5993 - accuracy: 0.6858 - val_loss: 0.5359 - val_accuracy: 0.7584\n",
      "Epoch 22/300\n",
      "45/45 [==============================] - 0s 3ms/step - loss: 0.6017 - accuracy: 0.6999 - val_loss: 0.5282 - val_accuracy: 0.7528\n",
      "Epoch 23/300\n",
      "45/45 [==============================] - 0s 3ms/step - loss: 0.6062 - accuracy: 0.6816 - val_loss: 0.5231 - val_accuracy: 0.7640\n",
      "Epoch 24/300\n",
      "45/45 [==============================] - 0s 3ms/step - loss: 0.6070 - accuracy: 0.6802 - val_loss: 0.5221 - val_accuracy: 0.7697\n",
      "Epoch 25/300\n",
      "45/45 [==============================] - 0s 2ms/step - loss: 0.5971 - accuracy: 0.6914 - val_loss: 0.5205 - val_accuracy: 0.7640\n",
      "Epoch 26/300\n",
      "45/45 [==============================] - 0s 3ms/step - loss: 0.5926 - accuracy: 0.7027 - val_loss: 0.5138 - val_accuracy: 0.7584\n",
      "Epoch 27/300\n",
      "45/45 [==============================] - 0s 3ms/step - loss: 0.5838 - accuracy: 0.7069 - val_loss: 0.5175 - val_accuracy: 0.7697\n",
      "Epoch 28/300\n",
      "45/45 [==============================] - 0s 3ms/step - loss: 0.5982 - accuracy: 0.6971 - val_loss: 0.5057 - val_accuracy: 0.7809\n",
      "Epoch 29/300\n",
      "45/45 [==============================] - 0s 3ms/step - loss: 0.5934 - accuracy: 0.6928 - val_loss: 0.5044 - val_accuracy: 0.7753\n",
      "Epoch 30/300\n",
      "45/45 [==============================] - 0s 3ms/step - loss: 0.5821 - accuracy: 0.7055 - val_loss: 0.5036 - val_accuracy: 0.7809\n",
      "Epoch 31/300\n",
      "45/45 [==============================] - 0s 3ms/step - loss: 0.5976 - accuracy: 0.6928 - val_loss: 0.5028 - val_accuracy: 0.7809\n",
      "Epoch 32/300\n",
      "45/45 [==============================] - 0s 3ms/step - loss: 0.5808 - accuracy: 0.7027 - val_loss: 0.4955 - val_accuracy: 0.7753\n",
      "Epoch 33/300\n",
      "45/45 [==============================] - 0s 3ms/step - loss: 0.5751 - accuracy: 0.7167 - val_loss: 0.4951 - val_accuracy: 0.7809\n",
      "Epoch 34/300\n",
      "45/45 [==============================] - 0s 3ms/step - loss: 0.5803 - accuracy: 0.7055 - val_loss: 0.5069 - val_accuracy: 0.7753\n",
      "Epoch 35/300\n",
      "45/45 [==============================] - 0s 2ms/step - loss: 0.5785 - accuracy: 0.6985 - val_loss: 0.4922 - val_accuracy: 0.7753\n",
      "Epoch 36/300\n",
      "45/45 [==============================] - 0s 3ms/step - loss: 0.5657 - accuracy: 0.7097 - val_loss: 0.4918 - val_accuracy: 0.7809\n",
      "Epoch 37/300\n",
      "45/45 [==============================] - 0s 3ms/step - loss: 0.5651 - accuracy: 0.6999 - val_loss: 0.5006 - val_accuracy: 0.7809\n",
      "Epoch 38/300\n",
      "45/45 [==============================] - 0s 2ms/step - loss: 0.5750 - accuracy: 0.7139 - val_loss: 0.4832 - val_accuracy: 0.7809\n",
      "Epoch 39/300\n",
      "45/45 [==============================] - 0s 2ms/step - loss: 0.5738 - accuracy: 0.7153 - val_loss: 0.4972 - val_accuracy: 0.7865\n",
      "Epoch 40/300\n",
      "45/45 [==============================] - 0s 3ms/step - loss: 0.5687 - accuracy: 0.7181 - val_loss: 0.4819 - val_accuracy: 0.7865\n",
      "Epoch 41/300\n",
      "45/45 [==============================] - 0s 2ms/step - loss: 0.5559 - accuracy: 0.7349 - val_loss: 0.4771 - val_accuracy: 0.7753\n",
      "Epoch 42/300\n",
      "45/45 [==============================] - 0s 2ms/step - loss: 0.5613 - accuracy: 0.7209 - val_loss: 0.4934 - val_accuracy: 0.8034\n",
      "Epoch 43/300\n",
      "45/45 [==============================] - 0s 3ms/step - loss: 0.5653 - accuracy: 0.7223 - val_loss: 0.4733 - val_accuracy: 0.7921\n",
      "Epoch 44/300\n",
      "45/45 [==============================] - 0s 3ms/step - loss: 0.5616 - accuracy: 0.7251 - val_loss: 0.4727 - val_accuracy: 0.7865\n",
      "Epoch 45/300\n",
      "45/45 [==============================] - 0s 3ms/step - loss: 0.5621 - accuracy: 0.7153 - val_loss: 0.4753 - val_accuracy: 0.7809\n",
      "Epoch 46/300\n",
      "45/45 [==============================] - 0s 3ms/step - loss: 0.5575 - accuracy: 0.7377 - val_loss: 0.4787 - val_accuracy: 0.8090\n",
      "Epoch 47/300\n",
      "45/45 [==============================] - 0s 3ms/step - loss: 0.5628 - accuracy: 0.7237 - val_loss: 0.4683 - val_accuracy: 0.7809\n",
      "Epoch 48/300\n",
      "45/45 [==============================] - 0s 3ms/step - loss: 0.5593 - accuracy: 0.7265 - val_loss: 0.4673 - val_accuracy: 0.7978\n",
      "Epoch 49/300\n",
      "45/45 [==============================] - 0s 2ms/step - loss: 0.5583 - accuracy: 0.7265 - val_loss: 0.4626 - val_accuracy: 0.7865\n",
      "Epoch 50/300\n",
      "45/45 [==============================] - 0s 3ms/step - loss: 0.5491 - accuracy: 0.7307 - val_loss: 0.4593 - val_accuracy: 0.7865\n",
      "Epoch 51/300\n",
      "45/45 [==============================] - 0s 3ms/step - loss: 0.5501 - accuracy: 0.7363 - val_loss: 0.4579 - val_accuracy: 0.7809\n",
      "Epoch 52/300\n",
      "45/45 [==============================] - 0s 3ms/step - loss: 0.5537 - accuracy: 0.7265 - val_loss: 0.4589 - val_accuracy: 0.7921\n",
      "Epoch 53/300\n",
      "45/45 [==============================] - 0s 3ms/step - loss: 0.5484 - accuracy: 0.7251 - val_loss: 0.4614 - val_accuracy: 0.7978\n",
      "Epoch 54/300\n",
      "45/45 [==============================] - 0s 3ms/step - loss: 0.5467 - accuracy: 0.7307 - val_loss: 0.4720 - val_accuracy: 0.8090\n",
      "Epoch 55/300\n",
      "45/45 [==============================] - 0s 2ms/step - loss: 0.5350 - accuracy: 0.7433 - val_loss: 0.4669 - val_accuracy: 0.8034\n",
      "Epoch 56/300\n",
      "45/45 [==============================] - 0s 3ms/step - loss: 0.5403 - accuracy: 0.7504 - val_loss: 0.4499 - val_accuracy: 0.7921\n",
      "Epoch 57/300\n",
      "45/45 [==============================] - 0s 2ms/step - loss: 0.5449 - accuracy: 0.7321 - val_loss: 0.4532 - val_accuracy: 0.8090\n",
      "Epoch 58/300\n",
      "45/45 [==============================] - 0s 2ms/step - loss: 0.5351 - accuracy: 0.7209 - val_loss: 0.4501 - val_accuracy: 0.8090\n"
     ]
    },
    {
     "name": "stdout",
     "output_type": "stream",
     "text": [
      "Epoch 59/300\n",
      "45/45 [==============================] - 0s 2ms/step - loss: 0.5403 - accuracy: 0.7265 - val_loss: 0.4454 - val_accuracy: 0.8034\n",
      "Epoch 60/300\n",
      "45/45 [==============================] - 0s 2ms/step - loss: 0.5433 - accuracy: 0.7377 - val_loss: 0.4431 - val_accuracy: 0.8090\n",
      "Epoch 61/300\n",
      "45/45 [==============================] - 0s 3ms/step - loss: 0.5467 - accuracy: 0.7363 - val_loss: 0.4414 - val_accuracy: 0.8146\n",
      "Epoch 62/300\n",
      "45/45 [==============================] - 0s 3ms/step - loss: 0.5440 - accuracy: 0.7335 - val_loss: 0.4408 - val_accuracy: 0.8202\n",
      "Epoch 63/300\n",
      "45/45 [==============================] - 0s 3ms/step - loss: 0.5253 - accuracy: 0.7518 - val_loss: 0.4378 - val_accuracy: 0.8146\n",
      "Epoch 64/300\n",
      "45/45 [==============================] - 0s 3ms/step - loss: 0.5242 - accuracy: 0.7419 - val_loss: 0.4499 - val_accuracy: 0.8202\n",
      "Epoch 65/300\n",
      "45/45 [==============================] - 0s 3ms/step - loss: 0.5309 - accuracy: 0.7447 - val_loss: 0.4385 - val_accuracy: 0.8258\n",
      "Epoch 66/300\n",
      "45/45 [==============================] - 0s 3ms/step - loss: 0.5250 - accuracy: 0.7461 - val_loss: 0.4372 - val_accuracy: 0.8202\n",
      "Epoch 67/300\n",
      "45/45 [==============================] - 0s 3ms/step - loss: 0.5414 - accuracy: 0.7293 - val_loss: 0.4415 - val_accuracy: 0.8315\n",
      "Epoch 68/300\n",
      "45/45 [==============================] - 0s 3ms/step - loss: 0.5299 - accuracy: 0.7433 - val_loss: 0.4345 - val_accuracy: 0.8258\n",
      "Epoch 69/300\n",
      "45/45 [==============================] - 0s 2ms/step - loss: 0.5305 - accuracy: 0.7461 - val_loss: 0.4336 - val_accuracy: 0.8258\n",
      "Epoch 70/300\n",
      "45/45 [==============================] - 0s 3ms/step - loss: 0.5268 - accuracy: 0.7504 - val_loss: 0.4450 - val_accuracy: 0.8315\n",
      "Epoch 71/300\n",
      "45/45 [==============================] - 0s 3ms/step - loss: 0.5228 - accuracy: 0.7461 - val_loss: 0.4277 - val_accuracy: 0.8202\n",
      "Epoch 72/300\n",
      "45/45 [==============================] - 0s 3ms/step - loss: 0.5263 - accuracy: 0.7391 - val_loss: 0.4277 - val_accuracy: 0.8202\n",
      "Epoch 73/300\n",
      "45/45 [==============================] - 0s 2ms/step - loss: 0.5230 - accuracy: 0.7433 - val_loss: 0.4286 - val_accuracy: 0.8483\n",
      "Epoch 74/300\n",
      "45/45 [==============================] - 0s 3ms/step - loss: 0.5123 - accuracy: 0.7560 - val_loss: 0.4298 - val_accuracy: 0.8483\n",
      "Epoch 75/300\n",
      "45/45 [==============================] - 0s 3ms/step - loss: 0.5158 - accuracy: 0.7546 - val_loss: 0.4225 - val_accuracy: 0.8315\n",
      "Epoch 76/300\n",
      "45/45 [==============================] - 0s 3ms/step - loss: 0.5142 - accuracy: 0.7616 - val_loss: 0.4222 - val_accuracy: 0.8371\n",
      "Epoch 77/300\n",
      "45/45 [==============================] - 0s 3ms/step - loss: 0.5175 - accuracy: 0.7616 - val_loss: 0.4172 - val_accuracy: 0.8539\n",
      "Epoch 78/300\n",
      "45/45 [==============================] - 0s 3ms/step - loss: 0.5107 - accuracy: 0.7574 - val_loss: 0.4116 - val_accuracy: 0.8315\n",
      "Epoch 79/300\n",
      "45/45 [==============================] - 0s 3ms/step - loss: 0.5042 - accuracy: 0.7588 - val_loss: 0.4288 - val_accuracy: 0.8146\n",
      "Epoch 80/300\n",
      "45/45 [==============================] - 0s 3ms/step - loss: 0.5086 - accuracy: 0.7616 - val_loss: 0.4062 - val_accuracy: 0.8427\n",
      "Epoch 81/300\n",
      "45/45 [==============================] - 0s 3ms/step - loss: 0.5049 - accuracy: 0.7700 - val_loss: 0.4075 - val_accuracy: 0.8371\n",
      "Epoch 82/300\n",
      "45/45 [==============================] - 0s 3ms/step - loss: 0.5052 - accuracy: 0.7644 - val_loss: 0.4076 - val_accuracy: 0.8596\n",
      "Epoch 83/300\n",
      "45/45 [==============================] - 0s 3ms/step - loss: 0.5175 - accuracy: 0.7532 - val_loss: 0.4084 - val_accuracy: 0.8146\n",
      "Epoch 84/300\n",
      "45/45 [==============================] - 0s 3ms/step - loss: 0.4994 - accuracy: 0.7588 - val_loss: 0.4138 - val_accuracy: 0.8258\n",
      "Epoch 85/300\n",
      "45/45 [==============================] - 0s 3ms/step - loss: 0.5006 - accuracy: 0.7616 - val_loss: 0.4078 - val_accuracy: 0.8483\n",
      "Epoch 86/300\n",
      "45/45 [==============================] - 0s 3ms/step - loss: 0.5035 - accuracy: 0.7686 - val_loss: 0.4137 - val_accuracy: 0.8371\n",
      "Epoch 87/300\n",
      "45/45 [==============================] - 0s 3ms/step - loss: 0.4985 - accuracy: 0.7602 - val_loss: 0.4051 - val_accuracy: 0.8427\n",
      "Epoch 88/300\n",
      "45/45 [==============================] - 0s 3ms/step - loss: 0.5013 - accuracy: 0.7728 - val_loss: 0.4003 - val_accuracy: 0.8427\n",
      "Epoch 89/300\n",
      "45/45 [==============================] - 0s 3ms/step - loss: 0.4983 - accuracy: 0.7630 - val_loss: 0.4007 - val_accuracy: 0.8315\n",
      "Epoch 90/300\n",
      "45/45 [==============================] - 0s 3ms/step - loss: 0.4966 - accuracy: 0.7686 - val_loss: 0.4006 - val_accuracy: 0.8539\n",
      "Epoch 91/300\n",
      "45/45 [==============================] - 0s 3ms/step - loss: 0.4992 - accuracy: 0.7602 - val_loss: 0.4020 - val_accuracy: 0.8483\n",
      "Epoch 92/300\n",
      "45/45 [==============================] - 0s 3ms/step - loss: 0.5008 - accuracy: 0.7798 - val_loss: 0.4119 - val_accuracy: 0.8258\n",
      "Epoch 93/300\n",
      "45/45 [==============================] - 0s 3ms/step - loss: 0.4946 - accuracy: 0.7784 - val_loss: 0.3949 - val_accuracy: 0.8596\n",
      "Epoch 94/300\n",
      "45/45 [==============================] - 0s 2ms/step - loss: 0.5074 - accuracy: 0.7630 - val_loss: 0.3934 - val_accuracy: 0.8596\n",
      "Epoch 95/300\n",
      "45/45 [==============================] - 0s 2ms/step - loss: 0.4981 - accuracy: 0.7658 - val_loss: 0.4064 - val_accuracy: 0.7978\n",
      "Epoch 96/300\n",
      "45/45 [==============================] - 0s 3ms/step - loss: 0.4885 - accuracy: 0.7672 - val_loss: 0.3933 - val_accuracy: 0.8596\n",
      "Epoch 97/300\n",
      "45/45 [==============================] - 0s 3ms/step - loss: 0.4912 - accuracy: 0.7686 - val_loss: 0.3927 - val_accuracy: 0.8539\n",
      "Epoch 98/300\n",
      "45/45 [==============================] - 0s 3ms/step - loss: 0.4905 - accuracy: 0.7756 - val_loss: 0.3933 - val_accuracy: 0.8483\n",
      "Epoch 99/300\n",
      "45/45 [==============================] - 0s 3ms/step - loss: 0.4976 - accuracy: 0.7644 - val_loss: 0.3901 - val_accuracy: 0.8652\n",
      "Epoch 100/300\n",
      "45/45 [==============================] - 0s 3ms/step - loss: 0.4888 - accuracy: 0.7812 - val_loss: 0.4080 - val_accuracy: 0.8258\n",
      "Epoch 101/300\n",
      "45/45 [==============================] - 0s 2ms/step - loss: 0.4921 - accuracy: 0.7644 - val_loss: 0.4091 - val_accuracy: 0.8315\n",
      "Epoch 102/300\n",
      "45/45 [==============================] - 0s 2ms/step - loss: 0.4876 - accuracy: 0.7770 - val_loss: 0.3875 - val_accuracy: 0.8539\n",
      "Epoch 103/300\n",
      "45/45 [==============================] - 0s 2ms/step - loss: 0.4883 - accuracy: 0.7770 - val_loss: 0.3904 - val_accuracy: 0.8315\n",
      "Epoch 104/300\n",
      "45/45 [==============================] - 0s 3ms/step - loss: 0.4919 - accuracy: 0.7770 - val_loss: 0.3869 - val_accuracy: 0.8652\n",
      "Epoch 105/300\n",
      "45/45 [==============================] - 0s 3ms/step - loss: 0.4886 - accuracy: 0.7784 - val_loss: 0.3940 - val_accuracy: 0.8371\n",
      "Epoch 106/300\n",
      "45/45 [==============================] - 0s 2ms/step - loss: 0.4928 - accuracy: 0.7700 - val_loss: 0.3872 - val_accuracy: 0.8539\n",
      "Epoch 107/300\n",
      "45/45 [==============================] - 0s 3ms/step - loss: 0.4642 - accuracy: 0.7896 - val_loss: 0.3850 - val_accuracy: 0.8483\n",
      "Epoch 108/300\n",
      "45/45 [==============================] - 0s 3ms/step - loss: 0.4855 - accuracy: 0.7854 - val_loss: 0.3844 - val_accuracy: 0.8483\n",
      "Epoch 109/300\n",
      "45/45 [==============================] - 0s 3ms/step - loss: 0.4856 - accuracy: 0.7602 - val_loss: 0.3859 - val_accuracy: 0.8652\n",
      "Epoch 110/300\n",
      "45/45 [==============================] - 0s 3ms/step - loss: 0.4884 - accuracy: 0.7686 - val_loss: 0.4095 - val_accuracy: 0.8315\n",
      "Epoch 111/300\n",
      "45/45 [==============================] - 0s 3ms/step - loss: 0.4697 - accuracy: 0.7882 - val_loss: 0.3942 - val_accuracy: 0.8315\n",
      "Epoch 112/300\n",
      "45/45 [==============================] - 0s 3ms/step - loss: 0.4715 - accuracy: 0.7882 - val_loss: 0.3937 - val_accuracy: 0.8371\n",
      "Epoch 113/300\n",
      "45/45 [==============================] - 0s 3ms/step - loss: 0.4760 - accuracy: 0.7812 - val_loss: 0.3919 - val_accuracy: 0.8315\n",
      "Epoch 114/300\n",
      "45/45 [==============================] - 0s 3ms/step - loss: 0.4776 - accuracy: 0.7840 - val_loss: 0.3903 - val_accuracy: 0.8371\n",
      "Epoch 115/300\n",
      "45/45 [==============================] - 0s 3ms/step - loss: 0.4777 - accuracy: 0.7812 - val_loss: 0.3805 - val_accuracy: 0.8483\n",
      "Epoch 116/300\n"
     ]
    },
    {
     "name": "stdout",
     "output_type": "stream",
     "text": [
      "45/45 [==============================] - 0s 3ms/step - loss: 0.4709 - accuracy: 0.7924 - val_loss: 0.3841 - val_accuracy: 0.8371\n",
      "Epoch 117/300\n",
      "45/45 [==============================] - 0s 2ms/step - loss: 0.4780 - accuracy: 0.7896 - val_loss: 0.3809 - val_accuracy: 0.8483\n",
      "Epoch 118/300\n",
      "45/45 [==============================] - 0s 2ms/step - loss: 0.4790 - accuracy: 0.7686 - val_loss: 0.3781 - val_accuracy: 0.8483\n",
      "Epoch 119/300\n",
      "45/45 [==============================] - 0s 3ms/step - loss: 0.4672 - accuracy: 0.7994 - val_loss: 0.3778 - val_accuracy: 0.8539\n",
      "Epoch 120/300\n",
      "45/45 [==============================] - 0s 2ms/step - loss: 0.4774 - accuracy: 0.7812 - val_loss: 0.3824 - val_accuracy: 0.8539\n",
      "Epoch 121/300\n",
      "45/45 [==============================] - 0s 3ms/step - loss: 0.4823 - accuracy: 0.7826 - val_loss: 0.3842 - val_accuracy: 0.8427\n",
      "Epoch 122/300\n",
      "45/45 [==============================] - 0s 3ms/step - loss: 0.4764 - accuracy: 0.7896 - val_loss: 0.3811 - val_accuracy: 0.8539\n",
      "Epoch 123/300\n",
      "45/45 [==============================] - 0s 2ms/step - loss: 0.4789 - accuracy: 0.7854 - val_loss: 0.3859 - val_accuracy: 0.8371\n",
      "Epoch 124/300\n",
      "45/45 [==============================] - 0s 3ms/step - loss: 0.4754 - accuracy: 0.7770 - val_loss: 0.3827 - val_accuracy: 0.8483\n",
      "Epoch 125/300\n",
      "45/45 [==============================] - 0s 3ms/step - loss: 0.4691 - accuracy: 0.7812 - val_loss: 0.3763 - val_accuracy: 0.8596\n",
      "Epoch 126/300\n",
      "45/45 [==============================] - 0s 3ms/step - loss: 0.4797 - accuracy: 0.7826 - val_loss: 0.3775 - val_accuracy: 0.8596\n",
      "Epoch 127/300\n",
      "45/45 [==============================] - 0s 3ms/step - loss: 0.4680 - accuracy: 0.7980 - val_loss: 0.3785 - val_accuracy: 0.8539\n",
      "Epoch 128/300\n",
      "45/45 [==============================] - 0s 3ms/step - loss: 0.4522 - accuracy: 0.8022 - val_loss: 0.3989 - val_accuracy: 0.8258\n",
      "Epoch 129/300\n",
      "45/45 [==============================] - 0s 2ms/step - loss: 0.4732 - accuracy: 0.7938 - val_loss: 0.3890 - val_accuracy: 0.8315\n",
      "Epoch 130/300\n",
      "45/45 [==============================] - 0s 3ms/step - loss: 0.4574 - accuracy: 0.7966 - val_loss: 0.3751 - val_accuracy: 0.8483\n",
      "Epoch 131/300\n",
      "45/45 [==============================] - 0s 3ms/step - loss: 0.4729 - accuracy: 0.7994 - val_loss: 0.3762 - val_accuracy: 0.8483\n",
      "Epoch 132/300\n",
      "45/45 [==============================] - 0s 3ms/step - loss: 0.4780 - accuracy: 0.7938 - val_loss: 0.3770 - val_accuracy: 0.8427\n",
      "Epoch 133/300\n",
      "45/45 [==============================] - 0s 3ms/step - loss: 0.4626 - accuracy: 0.8036 - val_loss: 0.3896 - val_accuracy: 0.8315\n",
      "Epoch 134/300\n",
      "45/45 [==============================] - 0s 2ms/step - loss: 0.4765 - accuracy: 0.7896 - val_loss: 0.3774 - val_accuracy: 0.8483\n",
      "Epoch 135/300\n",
      "45/45 [==============================] - 0s 2ms/step - loss: 0.4671 - accuracy: 0.7896 - val_loss: 0.3815 - val_accuracy: 0.8596\n",
      "Epoch 136/300\n",
      "45/45 [==============================] - 0s 2ms/step - loss: 0.4546 - accuracy: 0.8036 - val_loss: 0.4011 - val_accuracy: 0.8315\n",
      "Epoch 137/300\n",
      "45/45 [==============================] - 0s 2ms/step - loss: 0.4697 - accuracy: 0.7980 - val_loss: 0.3753 - val_accuracy: 0.8483\n",
      "Epoch 138/300\n",
      "45/45 [==============================] - 0s 2ms/step - loss: 0.4719 - accuracy: 0.7952 - val_loss: 0.3779 - val_accuracy: 0.8483\n",
      "Epoch 139/300\n",
      "45/45 [==============================] - 0s 3ms/step - loss: 0.4601 - accuracy: 0.8036 - val_loss: 0.3865 - val_accuracy: 0.8427\n",
      "Epoch 140/300\n",
      "45/45 [==============================] - 0s 3ms/step - loss: 0.4536 - accuracy: 0.7952 - val_loss: 0.3772 - val_accuracy: 0.8483\n"
     ]
    },
    {
     "data": {
      "image/png": "[encoded data removed]",
      "text/plain": [
       "<Figure size 1152x648 with 2 Axes>"
      ]
     },
     "metadata": {
      "needs_background": "light"
     },
     "output_type": "display_data"
    }
   ],
   "source": [
    "model_filename = f\"./densenet.h5\"\n",
    "\n",
    "if not os.path.isfile(model_filename):\n",
    "    history = model.fit(x_train, y_train, validation_data = (x_test, y_test), epochs = epochs, batch_size = 16, callbacks = [es], use_multiprocessing=True)\n",
    "    PlotHistory(history.history)\n",
    "    #model.save(model_filename)\n",
    "else:\n",
    "    history = []\n",
    "    #model = load_model(model_filename)"
   ]
  },
  {
   "cell_type": "code",
   "execution_count": 66,
   "id": "a2e3b003",
   "metadata": {},
   "outputs": [
    {
     "name": "stdout",
     "output_type": "stream",
     "text": [
      "14/14 [==============================] - 0s 847us/step\n"
     ]
    }
   ],
   "source": [
    "predictions = model.predict(filtered_test)\n",
    "threshold = 0.5\n",
    "predictions = (predictions >= threshold).astype(int)"
   ]
  },
  {
   "cell_type": "code",
   "execution_count": 67,
   "id": "43108660",
   "metadata": {},
   "outputs": [
    {
     "data": {
      "text/html": [
       "<div>\n",
       "<style scoped>\n",
       "    .dataframe tbody tr th:only-of-type {\n",
       "        vertical-align: middle;\n",
       "    }\n",
       "\n",
       "    .dataframe tbody tr th {\n",
       "        vertical-align: top;\n",
       "    }\n",
       "\n",
       "    .dataframe thead th {\n",
       "        text-align: right;\n",
       "    }\n",
       "</style>\n",
       "<table border=\"1\" class=\"dataframe\">\n",
       "  <thead>\n",
       "    <tr style=\"text-align: right;\">\n",
       "      <th></th>\n",
       "      <th>Survived</th>\n",
       "    </tr>\n",
       "    <tr>\n",
       "      <th>PassengerId</th>\n",
       "      <th></th>\n",
       "    </tr>\n",
       "  </thead>\n",
       "  <tbody>\n",
       "    <tr>\n",
       "      <th>892</th>\n",
       "      <td>0</td>\n",
       "    </tr>\n",
       "    <tr>\n",
       "      <th>893</th>\n",
       "      <td>1</td>\n",
       "    </tr>\n",
       "    <tr>\n",
       "      <th>894</th>\n",
       "      <td>0</td>\n",
       "    </tr>\n",
       "    <tr>\n",
       "      <th>895</th>\n",
       "      <td>0</td>\n",
       "    </tr>\n",
       "    <tr>\n",
       "      <th>896</th>\n",
       "      <td>1</td>\n",
       "    </tr>\n",
       "    <tr>\n",
       "      <th>...</th>\n",
       "      <td>...</td>\n",
       "    </tr>\n",
       "    <tr>\n",
       "      <th>1305</th>\n",
       "      <td>0</td>\n",
       "    </tr>\n",
       "    <tr>\n",
       "      <th>1306</th>\n",
       "      <td>1</td>\n",
       "    </tr>\n",
       "    <tr>\n",
       "      <th>1307</th>\n",
       "      <td>0</td>\n",
       "    </tr>\n",
       "    <tr>\n",
       "      <th>1308</th>\n",
       "      <td>0</td>\n",
       "    </tr>\n",
       "    <tr>\n",
       "      <th>1309</th>\n",
       "      <td>0</td>\n",
       "    </tr>\n",
       "  </tbody>\n",
       "</table>\n",
       "<p>418 rows × 1 columns</p>\n",
       "</div>"
      ],
      "text/plain": [
       "             Survived\n",
       "PassengerId          \n",
       "892                 0\n",
       "893                 1\n",
       "894                 0\n",
       "895                 0\n",
       "896                 1\n",
       "...               ...\n",
       "1305                0\n",
       "1306                1\n",
       "1307                0\n",
       "1308                0\n",
       "1309                0\n",
       "\n",
       "[418 rows x 1 columns]"
      ]
     },
     "execution_count": 67,
     "metadata": {},
     "output_type": "execute_result"
    }
   ],
   "source": [
    "results = pd.DataFrame(data = predictions, index=filtered_test.index, columns=[\"Survived\"])\n",
    "results"
   ]
  },
  {
   "cell_type": "code",
   "execution_count": 68,
   "id": "50ea469d",
   "metadata": {},
   "outputs": [],
   "source": [
    "results.to_csv(\"submission_10.csv\")"
   ]
  },
  {
   "cell_type": "code",
   "execution_count": null,
   "id": "162a7ad2",
   "metadata": {},
   "outputs": [],
   "source": []
  }
 ],
 "metadata": {
  "kernelspec": {
   "display_name": "Python 3 (ipykernel)",
   "language": "python",
   "name": "python3"
  },
  "language_info": {
   "codemirror_mode": {
    "name": "ipython",
    "version": 3
   },
   "file_extension": ".py",
   "mimetype": "text/x-python",
   "name": "python",
   "nbconvert_exporter": "python",
   "pygments_lexer": "ipython3",
   "version": "3.10.4"
  }
 },
 "nbformat": 4,
 "nbformat_minor": 5
}
